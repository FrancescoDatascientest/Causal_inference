{
  "cells": [
    {
      "cell_type": "code",
      "execution_count": 1,
      "metadata": {
        "colab": {
          "base_uri": "https://localhost:8080/"
        },
        "id": "EWj-o0sBIXGi",
        "outputId": "77e14d1a-5f3f-4e8e-cb44-83f911128268"
      },
      "outputs": [
        {
          "output_type": "stream",
          "name": "stdout",
          "text": [
            "Collecting dowhy\n",
            "  Downloading dowhy-0.10-py3-none-any.whl (362 kB)\n",
            "\u001b[2K     \u001b[90m━━━━━━━━━━━━━━━━━━━━━━━━━━━━━━━━━━━━━━━\u001b[0m \u001b[32m362.2/362.2 kB\u001b[0m \u001b[31m7.3 MB/s\u001b[0m eta \u001b[36m0:00:00\u001b[0m\n",
            "\u001b[?25hCollecting causal-learn>=0.1.3.0 (from dowhy)\n",
            "  Downloading causal_learn-0.1.3.3-py3-none-any.whl (172 kB)\n",
            "\u001b[2K     \u001b[90m━━━━━━━━━━━━━━━━━━━━━━━━━━━━━━━━━━━━━━\u001b[0m \u001b[32m172.9/172.9 kB\u001b[0m \u001b[31m20.0 MB/s\u001b[0m eta \u001b[36m0:00:00\u001b[0m\n",
            "\u001b[?25hRequirement already satisfied: cvxpy<2.0.0,>=1.2.2 in /usr/local/lib/python3.10/dist-packages (from dowhy) (1.3.2)\n",
            "Requirement already satisfied: cython<0.30.0,>=0.29.32 in /usr/local/lib/python3.10/dist-packages (from dowhy) (0.29.36)\n",
            "Requirement already satisfied: joblib>=1.1.0 in /usr/local/lib/python3.10/dist-packages (from dowhy) (1.3.1)\n",
            "Requirement already satisfied: networkx>=2.8.5 in /usr/local/lib/python3.10/dist-packages (from dowhy) (3.1)\n",
            "Requirement already satisfied: numpy>=1.20 in /usr/local/lib/python3.10/dist-packages (from dowhy) (1.22.4)\n",
            "Requirement already satisfied: pandas>=1.4.3 in /usr/local/lib/python3.10/dist-packages (from dowhy) (1.5.3)\n",
            "Requirement already satisfied: scikit-learn>1.0 in /usr/local/lib/python3.10/dist-packages (from dowhy) (1.2.2)\n",
            "Requirement already satisfied: scipy>=1.4.1 in /usr/local/lib/python3.10/dist-packages (from dowhy) (1.10.1)\n",
            "Requirement already satisfied: statsmodels>=0.13.5 in /usr/local/lib/python3.10/dist-packages (from dowhy) (0.13.5)\n",
            "Requirement already satisfied: sympy<2.0.0,>=1.10.1 in /usr/local/lib/python3.10/dist-packages (from dowhy) (1.11.1)\n",
            "Requirement already satisfied: tqdm>=4.64.0 in /usr/local/lib/python3.10/dist-packages (from dowhy) (4.65.0)\n",
            "Requirement already satisfied: graphviz in /usr/local/lib/python3.10/dist-packages (from causal-learn>=0.1.3.0->dowhy) (0.20.1)\n",
            "Requirement already satisfied: matplotlib in /usr/local/lib/python3.10/dist-packages (from causal-learn>=0.1.3.0->dowhy) (3.7.1)\n",
            "Requirement already satisfied: pydot in /usr/local/lib/python3.10/dist-packages (from causal-learn>=0.1.3.0->dowhy) (1.4.2)\n",
            "Requirement already satisfied: osqp>=0.4.1 in /usr/local/lib/python3.10/dist-packages (from cvxpy<2.0.0,>=1.2.2->dowhy) (0.6.2.post8)\n",
            "Requirement already satisfied: ecos>=2 in /usr/local/lib/python3.10/dist-packages (from cvxpy<2.0.0,>=1.2.2->dowhy) (2.0.12)\n",
            "Requirement already satisfied: scs>=1.1.6 in /usr/local/lib/python3.10/dist-packages (from cvxpy<2.0.0,>=1.2.2->dowhy) (3.2.3)\n",
            "Requirement already satisfied: setuptools>65.5.1 in /usr/local/lib/python3.10/dist-packages (from cvxpy<2.0.0,>=1.2.2->dowhy) (67.7.2)\n",
            "Requirement already satisfied: python-dateutil>=2.8.1 in /usr/local/lib/python3.10/dist-packages (from pandas>=1.4.3->dowhy) (2.8.2)\n",
            "Requirement already satisfied: pytz>=2020.1 in /usr/local/lib/python3.10/dist-packages (from pandas>=1.4.3->dowhy) (2022.7.1)\n",
            "Requirement already satisfied: threadpoolctl>=2.0.0 in /usr/local/lib/python3.10/dist-packages (from scikit-learn>1.0->dowhy) (3.2.0)\n",
            "Requirement already satisfied: patsy>=0.5.2 in /usr/local/lib/python3.10/dist-packages (from statsmodels>=0.13.5->dowhy) (0.5.3)\n",
            "Requirement already satisfied: packaging>=21.3 in /usr/local/lib/python3.10/dist-packages (from statsmodels>=0.13.5->dowhy) (23.1)\n",
            "Requirement already satisfied: mpmath>=0.19 in /usr/local/lib/python3.10/dist-packages (from sympy<2.0.0,>=1.10.1->dowhy) (1.3.0)\n",
            "Requirement already satisfied: qdldl in /usr/local/lib/python3.10/dist-packages (from osqp>=0.4.1->cvxpy<2.0.0,>=1.2.2->dowhy) (0.1.7.post0)\n",
            "Requirement already satisfied: six in /usr/local/lib/python3.10/dist-packages (from patsy>=0.5.2->statsmodels>=0.13.5->dowhy) (1.16.0)\n",
            "Requirement already satisfied: contourpy>=1.0.1 in /usr/local/lib/python3.10/dist-packages (from matplotlib->causal-learn>=0.1.3.0->dowhy) (1.1.0)\n",
            "Requirement already satisfied: cycler>=0.10 in /usr/local/lib/python3.10/dist-packages (from matplotlib->causal-learn>=0.1.3.0->dowhy) (0.11.0)\n",
            "Requirement already satisfied: fonttools>=4.22.0 in /usr/local/lib/python3.10/dist-packages (from matplotlib->causal-learn>=0.1.3.0->dowhy) (4.41.1)\n",
            "Requirement already satisfied: kiwisolver>=1.0.1 in /usr/local/lib/python3.10/dist-packages (from matplotlib->causal-learn>=0.1.3.0->dowhy) (1.4.4)\n",
            "Requirement already satisfied: pillow>=6.2.0 in /usr/local/lib/python3.10/dist-packages (from matplotlib->causal-learn>=0.1.3.0->dowhy) (9.4.0)\n",
            "Requirement already satisfied: pyparsing>=2.3.1 in /usr/local/lib/python3.10/dist-packages (from matplotlib->causal-learn>=0.1.3.0->dowhy) (3.1.0)\n",
            "Installing collected packages: causal-learn, dowhy\n",
            "Successfully installed causal-learn-0.1.3.3 dowhy-0.10\n"
          ]
        }
      ],
      "source": [
        "pip install dowhy"
      ]
    },
    {
      "cell_type": "code",
      "execution_count": null,
      "metadata": {
        "id": "uNLHsvTxSNT4"
      },
      "outputs": [],
      "source": []
    },
    {
      "cell_type": "code",
      "execution_count": 7,
      "metadata": {
        "colab": {
          "base_uri": "https://localhost:8080/"
        },
        "id": "i8jkxnXbOWF1",
        "outputId": "1d17934d-3868-4551-b4d4-ff77b50de95f"
      },
      "outputs": [
        {
          "output_type": "stream",
          "name": "stdout",
          "text": [
            "Reading package lists... Done\n",
            "Building dependency tree... Done\n",
            "Reading state information... Done\n",
            "Note, selecting 'libgraphviz-dev' instead of 'graphviz-dev'\n",
            "graphviz is already the newest version (2.42.2-6).\n",
            "The following additional packages will be installed:\n",
            "  libgail-common libgail18 libgtk2.0-0 libgtk2.0-bin libgtk2.0-common\n",
            "  libgvc6-plugins-gtk librsvg2-common libxdot4\n",
            "Suggested packages:\n",
            "  gvfs\n",
            "The following NEW packages will be installed:\n",
            "  libgail-common libgail18 libgraphviz-dev libgtk2.0-0 libgtk2.0-bin\n",
            "  libgtk2.0-common libgvc6-plugins-gtk librsvg2-common libxdot4\n",
            "0 upgraded, 9 newly installed, 0 to remove and 15 not upgraded.\n",
            "Need to get 2,433 kB of archives.\n",
            "After this operation, 7,694 kB of additional disk space will be used.\n",
            "Get:1 http://archive.ubuntu.com/ubuntu jammy/main amd64 libgtk2.0-common all 2.24.33-2ubuntu2 [125 kB]\n",
            "Get:2 http://archive.ubuntu.com/ubuntu jammy/main amd64 libgtk2.0-0 amd64 2.24.33-2ubuntu2 [2,037 kB]\n",
            "Get:3 http://archive.ubuntu.com/ubuntu jammy/main amd64 libgail18 amd64 2.24.33-2ubuntu2 [15.9 kB]\n",
            "Get:4 http://archive.ubuntu.com/ubuntu jammy/main amd64 libgail-common amd64 2.24.33-2ubuntu2 [132 kB]\n",
            "Get:5 http://archive.ubuntu.com/ubuntu jammy/universe amd64 libxdot4 amd64 2.42.2-6 [16.4 kB]\n",
            "Get:6 http://archive.ubuntu.com/ubuntu jammy/universe amd64 libgvc6-plugins-gtk amd64 2.42.2-6 [22.6 kB]\n",
            "Get:7 http://archive.ubuntu.com/ubuntu jammy/universe amd64 libgraphviz-dev amd64 2.42.2-6 [58.5 kB]\n",
            "Get:8 http://archive.ubuntu.com/ubuntu jammy/main amd64 libgtk2.0-bin amd64 2.24.33-2ubuntu2 [7,932 B]\n",
            "Get:9 http://archive.ubuntu.com/ubuntu jammy-updates/main amd64 librsvg2-common amd64 2.52.5+dfsg-3ubuntu0.2 [17.7 kB]\n",
            "Fetched 2,433 kB in 0s (11.5 MB/s)\n",
            "Selecting previously unselected package libgtk2.0-common.\n",
            "(Reading database ... 120500 files and directories currently installed.)\n",
            "Preparing to unpack .../0-libgtk2.0-common_2.24.33-2ubuntu2_all.deb ...\n",
            "Unpacking libgtk2.0-common (2.24.33-2ubuntu2) ...\n",
            "Selecting previously unselected package libgtk2.0-0:amd64.\n",
            "Preparing to unpack .../1-libgtk2.0-0_2.24.33-2ubuntu2_amd64.deb ...\n",
            "Unpacking libgtk2.0-0:amd64 (2.24.33-2ubuntu2) ...\n",
            "Selecting previously unselected package libgail18:amd64.\n",
            "Preparing to unpack .../2-libgail18_2.24.33-2ubuntu2_amd64.deb ...\n",
            "Unpacking libgail18:amd64 (2.24.33-2ubuntu2) ...\n",
            "Selecting previously unselected package libgail-common:amd64.\n",
            "Preparing to unpack .../3-libgail-common_2.24.33-2ubuntu2_amd64.deb ...\n",
            "Unpacking libgail-common:amd64 (2.24.33-2ubuntu2) ...\n",
            "Selecting previously unselected package libxdot4:amd64.\n",
            "Preparing to unpack .../4-libxdot4_2.42.2-6_amd64.deb ...\n",
            "Unpacking libxdot4:amd64 (2.42.2-6) ...\n",
            "Selecting previously unselected package libgvc6-plugins-gtk.\n",
            "Preparing to unpack .../5-libgvc6-plugins-gtk_2.42.2-6_amd64.deb ...\n",
            "Unpacking libgvc6-plugins-gtk (2.42.2-6) ...\n",
            "Selecting previously unselected package libgraphviz-dev:amd64.\n",
            "Preparing to unpack .../6-libgraphviz-dev_2.42.2-6_amd64.deb ...\n",
            "Unpacking libgraphviz-dev:amd64 (2.42.2-6) ...\n",
            "Selecting previously unselected package libgtk2.0-bin.\n",
            "Preparing to unpack .../7-libgtk2.0-bin_2.24.33-2ubuntu2_amd64.deb ...\n",
            "Unpacking libgtk2.0-bin (2.24.33-2ubuntu2) ...\n",
            "Selecting previously unselected package librsvg2-common:amd64.\n",
            "Preparing to unpack .../8-librsvg2-common_2.52.5+dfsg-3ubuntu0.2_amd64.deb ...\n",
            "Unpacking librsvg2-common:amd64 (2.52.5+dfsg-3ubuntu0.2) ...\n",
            "Setting up libxdot4:amd64 (2.42.2-6) ...\n",
            "Setting up librsvg2-common:amd64 (2.52.5+dfsg-3ubuntu0.2) ...\n",
            "Setting up libgtk2.0-common (2.24.33-2ubuntu2) ...\n",
            "Setting up libgtk2.0-0:amd64 (2.24.33-2ubuntu2) ...\n",
            "Setting up libgvc6-plugins-gtk (2.42.2-6) ...\n",
            "Setting up libgail18:amd64 (2.24.33-2ubuntu2) ...\n",
            "Setting up libgtk2.0-bin (2.24.33-2ubuntu2) ...\n",
            "Setting up libgail-common:amd64 (2.24.33-2ubuntu2) ...\n",
            "Setting up libgraphviz-dev:amd64 (2.42.2-6) ...\n",
            "Processing triggers for libc-bin (2.35-0ubuntu3.1) ...\n",
            "Processing triggers for man-db (2.10.2-1) ...\n",
            "Processing triggers for libgdk-pixbuf-2.0-0:amd64 (2.42.8+dfsg-1ubuntu0.2) ...\n",
            "Collecting pygraphviz\n",
            "  Downloading pygraphviz-1.11.zip (120 kB)\n",
            "\u001b[2K     \u001b[90m━━━━━━━━━━━━━━━━━━━━━━━━━━━━━━━━━━━━━━━\u001b[0m \u001b[32m120.8/120.8 kB\u001b[0m \u001b[31m4.6 MB/s\u001b[0m eta \u001b[36m0:00:00\u001b[0m\n",
            "\u001b[?25h  Preparing metadata (setup.py) ... \u001b[?25l\u001b[?25hdone\n",
            "Building wheels for collected packages: pygraphviz\n",
            "  Building wheel for pygraphviz (setup.py) ... \u001b[?25l\u001b[?25hdone\n",
            "  Created wheel for pygraphviz: filename=pygraphviz-1.11-cp310-cp310-linux_x86_64.whl size=175922 sha256=ccd5a3ae72bd756547a7e339a9c6d86ff3e88ec2abfd47836e89499138bcff01\n",
            "  Stored in directory: /root/.cache/pip/wheels/5b/ee/36/f47a0d35664fbe1a2b5a433ae33c6ad636b00bb231f68a9aaa\n",
            "Successfully built pygraphviz\n",
            "Installing collected packages: pygraphviz\n",
            "Successfully installed pygraphviz-1.11\n"
          ]
        }
      ],
      "source": [
        "!apt-get install graphviz graphviz-dev\n",
        "!pip install pygraphviz"
      ]
    },
    {
      "cell_type": "markdown",
      "metadata": {
        "id": "3EQpGRZWe2xg"
      },
      "source": [
        "<hr style=\"border-width:2px;border-color:#75DFC1\">\n",
        "<h1 style = \"text-align:center\" >  Expérience randomisée </h1>\n",
        "<hr style=\"border-width:2px;border-color:#75DFC1\">\n",
        "\n",
        "\n",
        "> Nous allons utiliser des données issues d'une expérience randomisée. Des chercheurs souhaitent étudier l'impact de différent type d'appentissage (présentiel, online ou hybride) sur les performances des étudiants mesurées à travers un examen final. Les étudiants ont été séparés de manière aléatoire dans trois groupes différents."
      ]
    },
    {
      "cell_type": "code",
      "execution_count": 2,
      "metadata": {
        "colab": {
          "base_uri": "https://localhost:8080/"
        },
        "id": "PrKNyZ4kfElg",
        "outputId": "b3ee3c6a-47e6-4365-f32c-6d2ca7e0d6a3"
      },
      "outputs": [
        {
          "output_type": "stream",
          "name": "stdout",
          "text": [
            "Mounted at /content/drive/\n"
          ]
        }
      ],
      "source": [
        "from google.colab import drive\n",
        "drive.mount('/content/drive/')\n",
        "\n",
        "\n",
        "import warnings\n",
        "warnings.filterwarnings('ignore')\n",
        "\n",
        "import pandas as pd\n",
        "import numpy as np\n",
        "from matplotlib import style\n",
        "from matplotlib import pyplot as plt\n",
        "import seaborn as sns\n",
        "import statsmodels.formula.api as smf\n",
        "\n",
        "import graphviz as gr\n",
        "\n",
        "%matplotlib inline\n",
        "\n",
        "style.use(\"fivethirtyeight\")"
      ]
    },
    {
      "cell_type": "code",
      "source": [
        "df = pd.read_csv('drive/My Drive/causal_inference/online_classroom.csv')\n",
        "print(df.shape)\n",
        "df.info()\n",
        "df.head()\n"
      ],
      "metadata": {
        "colab": {
          "base_uri": "https://localhost:8080/",
          "height": 534
        },
        "id": "Mf7riQmphfIu",
        "outputId": "604d321f-a913-4b3a-8d60-3a6feaf2632f"
      },
      "execution_count": null,
      "outputs": [
        {
          "output_type": "stream",
          "name": "stdout",
          "text": [
            "(323, 10)\n",
            "<class 'pandas.core.frame.DataFrame'>\n",
            "RangeIndex: 323 entries, 0 to 322\n",
            "Data columns (total 10 columns):\n",
            " #   Column          Non-Null Count  Dtype  \n",
            "---  ------          --------------  -----  \n",
            " 0   gender          323 non-null    int64  \n",
            " 1   asian           247 non-null    float64\n",
            " 2   black           247 non-null    float64\n",
            " 3   hawaiian        247 non-null    float64\n",
            " 4   hispanic        247 non-null    float64\n",
            " 5   unknown         247 non-null    float64\n",
            " 6   white           247 non-null    float64\n",
            " 7   format_ol       323 non-null    int64  \n",
            " 8   format_blended  323 non-null    float64\n",
            " 9   falsexam        323 non-null    float64\n",
            "dtypes: float64(8), int64(2)\n",
            "memory usage: 25.4 KB\n"
          ]
        },
        {
          "output_type": "execute_result",
          "data": {
            "text/plain": [
              "   gender  asian  black  hawaiian  hispanic  unknown  white  format_ol  \\\n",
              "0       0    0.0    0.0       0.0       0.0      0.0    1.0          0   \n",
              "1       1    0.0    0.0       0.0       0.0      0.0    1.0          0   \n",
              "2       1    0.0    0.0       0.0       0.0      0.0    1.0          0   \n",
              "3       1    0.0    0.0       0.0       0.0      0.0    1.0          0   \n",
              "4       1    0.0    0.0       0.0       0.0      0.0    1.0          1   \n",
              "\n",
              "   format_blended  falsexam  \n",
              "0             0.0  63.29997  \n",
              "1             0.0  79.96000  \n",
              "2             1.0  83.37000  \n",
              "3             1.0  90.01994  \n",
              "4             0.0  83.30000  "
            ],
            "text/html": [
              "\n",
              "\n",
              "  <div id=\"df-909f4a20-948f-4ea1-bedc-f38fdbdc5d84\">\n",
              "    <div class=\"colab-df-container\">\n",
              "      <div>\n",
              "<style scoped>\n",
              "    .dataframe tbody tr th:only-of-type {\n",
              "        vertical-align: middle;\n",
              "    }\n",
              "\n",
              "    .dataframe tbody tr th {\n",
              "        vertical-align: top;\n",
              "    }\n",
              "\n",
              "    .dataframe thead th {\n",
              "        text-align: right;\n",
              "    }\n",
              "</style>\n",
              "<table border=\"1\" class=\"dataframe\">\n",
              "  <thead>\n",
              "    <tr style=\"text-align: right;\">\n",
              "      <th></th>\n",
              "      <th>gender</th>\n",
              "      <th>asian</th>\n",
              "      <th>black</th>\n",
              "      <th>hawaiian</th>\n",
              "      <th>hispanic</th>\n",
              "      <th>unknown</th>\n",
              "      <th>white</th>\n",
              "      <th>format_ol</th>\n",
              "      <th>format_blended</th>\n",
              "      <th>falsexam</th>\n",
              "    </tr>\n",
              "  </thead>\n",
              "  <tbody>\n",
              "    <tr>\n",
              "      <th>0</th>\n",
              "      <td>0</td>\n",
              "      <td>0.0</td>\n",
              "      <td>0.0</td>\n",
              "      <td>0.0</td>\n",
              "      <td>0.0</td>\n",
              "      <td>0.0</td>\n",
              "      <td>1.0</td>\n",
              "      <td>0</td>\n",
              "      <td>0.0</td>\n",
              "      <td>63.29997</td>\n",
              "    </tr>\n",
              "    <tr>\n",
              "      <th>1</th>\n",
              "      <td>1</td>\n",
              "      <td>0.0</td>\n",
              "      <td>0.0</td>\n",
              "      <td>0.0</td>\n",
              "      <td>0.0</td>\n",
              "      <td>0.0</td>\n",
              "      <td>1.0</td>\n",
              "      <td>0</td>\n",
              "      <td>0.0</td>\n",
              "      <td>79.96000</td>\n",
              "    </tr>\n",
              "    <tr>\n",
              "      <th>2</th>\n",
              "      <td>1</td>\n",
              "      <td>0.0</td>\n",
              "      <td>0.0</td>\n",
              "      <td>0.0</td>\n",
              "      <td>0.0</td>\n",
              "      <td>0.0</td>\n",
              "      <td>1.0</td>\n",
              "      <td>0</td>\n",
              "      <td>1.0</td>\n",
              "      <td>83.37000</td>\n",
              "    </tr>\n",
              "    <tr>\n",
              "      <th>3</th>\n",
              "      <td>1</td>\n",
              "      <td>0.0</td>\n",
              "      <td>0.0</td>\n",
              "      <td>0.0</td>\n",
              "      <td>0.0</td>\n",
              "      <td>0.0</td>\n",
              "      <td>1.0</td>\n",
              "      <td>0</td>\n",
              "      <td>1.0</td>\n",
              "      <td>90.01994</td>\n",
              "    </tr>\n",
              "    <tr>\n",
              "      <th>4</th>\n",
              "      <td>1</td>\n",
              "      <td>0.0</td>\n",
              "      <td>0.0</td>\n",
              "      <td>0.0</td>\n",
              "      <td>0.0</td>\n",
              "      <td>0.0</td>\n",
              "      <td>1.0</td>\n",
              "      <td>1</td>\n",
              "      <td>0.0</td>\n",
              "      <td>83.30000</td>\n",
              "    </tr>\n",
              "  </tbody>\n",
              "</table>\n",
              "</div>\n",
              "      <button class=\"colab-df-convert\" onclick=\"convertToInteractive('df-909f4a20-948f-4ea1-bedc-f38fdbdc5d84')\"\n",
              "              title=\"Convert this dataframe to an interactive table.\"\n",
              "              style=\"display:none;\">\n",
              "\n",
              "  <svg xmlns=\"http://www.w3.org/2000/svg\" height=\"24px\"viewBox=\"0 0 24 24\"\n",
              "       width=\"24px\">\n",
              "    <path d=\"M0 0h24v24H0V0z\" fill=\"none\"/>\n",
              "    <path d=\"M18.56 5.44l.94 2.06.94-2.06 2.06-.94-2.06-.94-.94-2.06-.94 2.06-2.06.94zm-11 1L8.5 8.5l.94-2.06 2.06-.94-2.06-.94L8.5 2.5l-.94 2.06-2.06.94zm10 10l.94 2.06.94-2.06 2.06-.94-2.06-.94-.94-2.06-.94 2.06-2.06.94z\"/><path d=\"M17.41 7.96l-1.37-1.37c-.4-.4-.92-.59-1.43-.59-.52 0-1.04.2-1.43.59L10.3 9.45l-7.72 7.72c-.78.78-.78 2.05 0 2.83L4 21.41c.39.39.9.59 1.41.59.51 0 1.02-.2 1.41-.59l7.78-7.78 2.81-2.81c.8-.78.8-2.07 0-2.86zM5.41 20L4 18.59l7.72-7.72 1.47 1.35L5.41 20z\"/>\n",
              "  </svg>\n",
              "      </button>\n",
              "\n",
              "\n",
              "\n",
              "    <div id=\"df-99adf58c-1005-4619-bc9d-97cf849dd22b\">\n",
              "      <button class=\"colab-df-quickchart\" onclick=\"quickchart('df-99adf58c-1005-4619-bc9d-97cf849dd22b')\"\n",
              "              title=\"Suggest charts.\"\n",
              "              style=\"display:none;\">\n",
              "\n",
              "<svg xmlns=\"http://www.w3.org/2000/svg\" height=\"24px\"viewBox=\"0 0 24 24\"\n",
              "     width=\"24px\">\n",
              "    <g>\n",
              "        <path d=\"M19 3H5c-1.1 0-2 .9-2 2v14c0 1.1.9 2 2 2h14c1.1 0 2-.9 2-2V5c0-1.1-.9-2-2-2zM9 17H7v-7h2v7zm4 0h-2V7h2v10zm4 0h-2v-4h2v4z\"/>\n",
              "    </g>\n",
              "</svg>\n",
              "      </button>\n",
              "    </div>\n",
              "\n",
              "<style>\n",
              "  .colab-df-quickchart {\n",
              "    background-color: #E8F0FE;\n",
              "    border: none;\n",
              "    border-radius: 50%;\n",
              "    cursor: pointer;\n",
              "    display: none;\n",
              "    fill: #1967D2;\n",
              "    height: 32px;\n",
              "    padding: 0 0 0 0;\n",
              "    width: 32px;\n",
              "  }\n",
              "\n",
              "  .colab-df-quickchart:hover {\n",
              "    background-color: #E2EBFA;\n",
              "    box-shadow: 0px 1px 2px rgba(60, 64, 67, 0.3), 0px 1px 3px 1px rgba(60, 64, 67, 0.15);\n",
              "    fill: #174EA6;\n",
              "  }\n",
              "\n",
              "  [theme=dark] .colab-df-quickchart {\n",
              "    background-color: #3B4455;\n",
              "    fill: #D2E3FC;\n",
              "  }\n",
              "\n",
              "  [theme=dark] .colab-df-quickchart:hover {\n",
              "    background-color: #434B5C;\n",
              "    box-shadow: 0px 1px 3px 1px rgba(0, 0, 0, 0.15);\n",
              "    filter: drop-shadow(0px 1px 2px rgba(0, 0, 0, 0.3));\n",
              "    fill: #FFFFFF;\n",
              "  }\n",
              "</style>\n",
              "\n",
              "    <script>\n",
              "      async function quickchart(key) {\n",
              "        const containerElement = document.querySelector('#' + key);\n",
              "        const charts = await google.colab.kernel.invokeFunction(\n",
              "            'suggestCharts', [key], {});\n",
              "      }\n",
              "    </script>\n",
              "\n",
              "      <script>\n",
              "\n",
              "function displayQuickchartButton(domScope) {\n",
              "  let quickchartButtonEl =\n",
              "    domScope.querySelector('#df-99adf58c-1005-4619-bc9d-97cf849dd22b button.colab-df-quickchart');\n",
              "  quickchartButtonEl.style.display =\n",
              "    google.colab.kernel.accessAllowed ? 'block' : 'none';\n",
              "}\n",
              "\n",
              "        displayQuickchartButton(document);\n",
              "      </script>\n",
              "      <style>\n",
              "    .colab-df-container {\n",
              "      display:flex;\n",
              "      flex-wrap:wrap;\n",
              "      gap: 12px;\n",
              "    }\n",
              "\n",
              "    .colab-df-convert {\n",
              "      background-color: #E8F0FE;\n",
              "      border: none;\n",
              "      border-radius: 50%;\n",
              "      cursor: pointer;\n",
              "      display: none;\n",
              "      fill: #1967D2;\n",
              "      height: 32px;\n",
              "      padding: 0 0 0 0;\n",
              "      width: 32px;\n",
              "    }\n",
              "\n",
              "    .colab-df-convert:hover {\n",
              "      background-color: #E2EBFA;\n",
              "      box-shadow: 0px 1px 2px rgba(60, 64, 67, 0.3), 0px 1px 3px 1px rgba(60, 64, 67, 0.15);\n",
              "      fill: #174EA6;\n",
              "    }\n",
              "\n",
              "    [theme=dark] .colab-df-convert {\n",
              "      background-color: #3B4455;\n",
              "      fill: #D2E3FC;\n",
              "    }\n",
              "\n",
              "    [theme=dark] .colab-df-convert:hover {\n",
              "      background-color: #434B5C;\n",
              "      box-shadow: 0px 1px 3px 1px rgba(0, 0, 0, 0.15);\n",
              "      filter: drop-shadow(0px 1px 2px rgba(0, 0, 0, 0.3));\n",
              "      fill: #FFFFFF;\n",
              "    }\n",
              "  </style>\n",
              "\n",
              "      <script>\n",
              "        const buttonEl =\n",
              "          document.querySelector('#df-909f4a20-948f-4ea1-bedc-f38fdbdc5d84 button.colab-df-convert');\n",
              "        buttonEl.style.display =\n",
              "          google.colab.kernel.accessAllowed ? 'block' : 'none';\n",
              "\n",
              "        async function convertToInteractive(key) {\n",
              "          const element = document.querySelector('#df-909f4a20-948f-4ea1-bedc-f38fdbdc5d84');\n",
              "          const dataTable =\n",
              "            await google.colab.kernel.invokeFunction('convertToInteractive',\n",
              "                                                     [key], {});\n",
              "          if (!dataTable) return;\n",
              "\n",
              "          const docLinkHtml = 'Like what you see? Visit the ' +\n",
              "            '<a target=\"_blank\" href=https://colab.research.google.com/notebooks/data_table.ipynb>data table notebook</a>'\n",
              "            + ' to learn more about interactive tables.';\n",
              "          element.innerHTML = '';\n",
              "          dataTable['output_type'] = 'display_data';\n",
              "          await google.colab.output.renderOutput(dataTable, element);\n",
              "          const docLink = document.createElement('div');\n",
              "          docLink.innerHTML = docLinkHtml;\n",
              "          element.appendChild(docLink);\n",
              "        }\n",
              "      </script>\n",
              "    </div>\n",
              "  </div>\n"
            ]
          },
          "metadata": {},
          "execution_count": 2
        }
      ]
    },
    {
      "cell_type": "code",
      "source": [
        "# Création de la variable 'class_format' qui décrit notre traitement\n",
        "\n",
        "df['class_format'] = np.select(\n",
        "     [df[\"format_ol\"].astype(bool), df[\"format_blended\"].astype(bool)],\n",
        "     [\"online\", \"blended\"],\n",
        "     default=\"face_to_face\")\n"
      ],
      "metadata": {
        "id": "-QV4RCaf2zzT"
      },
      "execution_count": null,
      "outputs": []
    },
    {
      "cell_type": "code",
      "source": [
        "\n",
        "cols_to_drop = ['asian', 'black', 'hawaiian', 'hispanic', 'unknown', 'white',\n",
        "       'format_ol', 'format_blended']\n",
        "\n",
        "df = df.drop(cols_to_drop, axis = 1)\n",
        "\n",
        "df.head()"
      ],
      "metadata": {
        "colab": {
          "base_uri": "https://localhost:8080/",
          "height": 206
        },
        "id": "uIiYoJft9AQF",
        "outputId": "404e9f47-068b-4fc9-a256-5a3d52f12e00"
      },
      "execution_count": null,
      "outputs": [
        {
          "output_type": "execute_result",
          "data": {
            "text/plain": [
              "   gender  falsexam  class_format\n",
              "0       0  63.29997  face_to_face\n",
              "1       1  79.96000  face_to_face\n",
              "2       1  83.37000       blended\n",
              "3       1  90.01994       blended\n",
              "4       1  83.30000        online"
            ],
            "text/html": [
              "\n",
              "\n",
              "  <div id=\"df-1a6aa878-1d8f-4036-bc5a-b71ca3e032d7\">\n",
              "    <div class=\"colab-df-container\">\n",
              "      <div>\n",
              "<style scoped>\n",
              "    .dataframe tbody tr th:only-of-type {\n",
              "        vertical-align: middle;\n",
              "    }\n",
              "\n",
              "    .dataframe tbody tr th {\n",
              "        vertical-align: top;\n",
              "    }\n",
              "\n",
              "    .dataframe thead th {\n",
              "        text-align: right;\n",
              "    }\n",
              "</style>\n",
              "<table border=\"1\" class=\"dataframe\">\n",
              "  <thead>\n",
              "    <tr style=\"text-align: right;\">\n",
              "      <th></th>\n",
              "      <th>gender</th>\n",
              "      <th>falsexam</th>\n",
              "      <th>class_format</th>\n",
              "    </tr>\n",
              "  </thead>\n",
              "  <tbody>\n",
              "    <tr>\n",
              "      <th>0</th>\n",
              "      <td>0</td>\n",
              "      <td>63.29997</td>\n",
              "      <td>face_to_face</td>\n",
              "    </tr>\n",
              "    <tr>\n",
              "      <th>1</th>\n",
              "      <td>1</td>\n",
              "      <td>79.96000</td>\n",
              "      <td>face_to_face</td>\n",
              "    </tr>\n",
              "    <tr>\n",
              "      <th>2</th>\n",
              "      <td>1</td>\n",
              "      <td>83.37000</td>\n",
              "      <td>blended</td>\n",
              "    </tr>\n",
              "    <tr>\n",
              "      <th>3</th>\n",
              "      <td>1</td>\n",
              "      <td>90.01994</td>\n",
              "      <td>blended</td>\n",
              "    </tr>\n",
              "    <tr>\n",
              "      <th>4</th>\n",
              "      <td>1</td>\n",
              "      <td>83.30000</td>\n",
              "      <td>online</td>\n",
              "    </tr>\n",
              "  </tbody>\n",
              "</table>\n",
              "</div>\n",
              "      <button class=\"colab-df-convert\" onclick=\"convertToInteractive('df-1a6aa878-1d8f-4036-bc5a-b71ca3e032d7')\"\n",
              "              title=\"Convert this dataframe to an interactive table.\"\n",
              "              style=\"display:none;\">\n",
              "\n",
              "  <svg xmlns=\"http://www.w3.org/2000/svg\" height=\"24px\"viewBox=\"0 0 24 24\"\n",
              "       width=\"24px\">\n",
              "    <path d=\"M0 0h24v24H0V0z\" fill=\"none\"/>\n",
              "    <path d=\"M18.56 5.44l.94 2.06.94-2.06 2.06-.94-2.06-.94-.94-2.06-.94 2.06-2.06.94zm-11 1L8.5 8.5l.94-2.06 2.06-.94-2.06-.94L8.5 2.5l-.94 2.06-2.06.94zm10 10l.94 2.06.94-2.06 2.06-.94-2.06-.94-.94-2.06-.94 2.06-2.06.94z\"/><path d=\"M17.41 7.96l-1.37-1.37c-.4-.4-.92-.59-1.43-.59-.52 0-1.04.2-1.43.59L10.3 9.45l-7.72 7.72c-.78.78-.78 2.05 0 2.83L4 21.41c.39.39.9.59 1.41.59.51 0 1.02-.2 1.41-.59l7.78-7.78 2.81-2.81c.8-.78.8-2.07 0-2.86zM5.41 20L4 18.59l7.72-7.72 1.47 1.35L5.41 20z\"/>\n",
              "  </svg>\n",
              "      </button>\n",
              "\n",
              "\n",
              "\n",
              "    <div id=\"df-11ec852e-ac04-4ea2-ad58-e04d00b789f6\">\n",
              "      <button class=\"colab-df-quickchart\" onclick=\"quickchart('df-11ec852e-ac04-4ea2-ad58-e04d00b789f6')\"\n",
              "              title=\"Suggest charts.\"\n",
              "              style=\"display:none;\">\n",
              "\n",
              "<svg xmlns=\"http://www.w3.org/2000/svg\" height=\"24px\"viewBox=\"0 0 24 24\"\n",
              "     width=\"24px\">\n",
              "    <g>\n",
              "        <path d=\"M19 3H5c-1.1 0-2 .9-2 2v14c0 1.1.9 2 2 2h14c1.1 0 2-.9 2-2V5c0-1.1-.9-2-2-2zM9 17H7v-7h2v7zm4 0h-2V7h2v10zm4 0h-2v-4h2v4z\"/>\n",
              "    </g>\n",
              "</svg>\n",
              "      </button>\n",
              "    </div>\n",
              "\n",
              "<style>\n",
              "  .colab-df-quickchart {\n",
              "    background-color: #E8F0FE;\n",
              "    border: none;\n",
              "    border-radius: 50%;\n",
              "    cursor: pointer;\n",
              "    display: none;\n",
              "    fill: #1967D2;\n",
              "    height: 32px;\n",
              "    padding: 0 0 0 0;\n",
              "    width: 32px;\n",
              "  }\n",
              "\n",
              "  .colab-df-quickchart:hover {\n",
              "    background-color: #E2EBFA;\n",
              "    box-shadow: 0px 1px 2px rgba(60, 64, 67, 0.3), 0px 1px 3px 1px rgba(60, 64, 67, 0.15);\n",
              "    fill: #174EA6;\n",
              "  }\n",
              "\n",
              "  [theme=dark] .colab-df-quickchart {\n",
              "    background-color: #3B4455;\n",
              "    fill: #D2E3FC;\n",
              "  }\n",
              "\n",
              "  [theme=dark] .colab-df-quickchart:hover {\n",
              "    background-color: #434B5C;\n",
              "    box-shadow: 0px 1px 3px 1px rgba(0, 0, 0, 0.15);\n",
              "    filter: drop-shadow(0px 1px 2px rgba(0, 0, 0, 0.3));\n",
              "    fill: #FFFFFF;\n",
              "  }\n",
              "</style>\n",
              "\n",
              "    <script>\n",
              "      async function quickchart(key) {\n",
              "        const containerElement = document.querySelector('#' + key);\n",
              "        const charts = await google.colab.kernel.invokeFunction(\n",
              "            'suggestCharts', [key], {});\n",
              "      }\n",
              "    </script>\n",
              "\n",
              "      <script>\n",
              "\n",
              "function displayQuickchartButton(domScope) {\n",
              "  let quickchartButtonEl =\n",
              "    domScope.querySelector('#df-11ec852e-ac04-4ea2-ad58-e04d00b789f6 button.colab-df-quickchart');\n",
              "  quickchartButtonEl.style.display =\n",
              "    google.colab.kernel.accessAllowed ? 'block' : 'none';\n",
              "}\n",
              "\n",
              "        displayQuickchartButton(document);\n",
              "      </script>\n",
              "      <style>\n",
              "    .colab-df-container {\n",
              "      display:flex;\n",
              "      flex-wrap:wrap;\n",
              "      gap: 12px;\n",
              "    }\n",
              "\n",
              "    .colab-df-convert {\n",
              "      background-color: #E8F0FE;\n",
              "      border: none;\n",
              "      border-radius: 50%;\n",
              "      cursor: pointer;\n",
              "      display: none;\n",
              "      fill: #1967D2;\n",
              "      height: 32px;\n",
              "      padding: 0 0 0 0;\n",
              "      width: 32px;\n",
              "    }\n",
              "\n",
              "    .colab-df-convert:hover {\n",
              "      background-color: #E2EBFA;\n",
              "      box-shadow: 0px 1px 2px rgba(60, 64, 67, 0.3), 0px 1px 3px 1px rgba(60, 64, 67, 0.15);\n",
              "      fill: #174EA6;\n",
              "    }\n",
              "\n",
              "    [theme=dark] .colab-df-convert {\n",
              "      background-color: #3B4455;\n",
              "      fill: #D2E3FC;\n",
              "    }\n",
              "\n",
              "    [theme=dark] .colab-df-convert:hover {\n",
              "      background-color: #434B5C;\n",
              "      box-shadow: 0px 1px 3px 1px rgba(0, 0, 0, 0.15);\n",
              "      filter: drop-shadow(0px 1px 2px rgba(0, 0, 0, 0.3));\n",
              "      fill: #FFFFFF;\n",
              "    }\n",
              "  </style>\n",
              "\n",
              "      <script>\n",
              "        const buttonEl =\n",
              "          document.querySelector('#df-1a6aa878-1d8f-4036-bc5a-b71ca3e032d7 button.colab-df-convert');\n",
              "        buttonEl.style.display =\n",
              "          google.colab.kernel.accessAllowed ? 'block' : 'none';\n",
              "\n",
              "        async function convertToInteractive(key) {\n",
              "          const element = document.querySelector('#df-1a6aa878-1d8f-4036-bc5a-b71ca3e032d7');\n",
              "          const dataTable =\n",
              "            await google.colab.kernel.invokeFunction('convertToInteractive',\n",
              "                                                     [key], {});\n",
              "          if (!dataTable) return;\n",
              "\n",
              "          const docLinkHtml = 'Like what you see? Visit the ' +\n",
              "            '<a target=\"_blank\" href=https://colab.research.google.com/notebooks/data_table.ipynb>data table notebook</a>'\n",
              "            + ' to learn more about interactive tables.';\n",
              "          element.innerHTML = '';\n",
              "          dataTable['output_type'] = 'display_data';\n",
              "          await google.colab.output.renderOutput(dataTable, element);\n",
              "          const docLink = document.createElement('div');\n",
              "          docLink.innerHTML = docLinkHtml;\n",
              "          element.appendChild(docLink);\n",
              "        }\n",
              "      </script>\n",
              "    </div>\n",
              "  </div>\n"
            ]
          },
          "metadata": {},
          "execution_count": 4
        }
      ]
    },
    {
      "cell_type": "code",
      "source": [
        "# Nous définisson l'ordre des facteurs (modalités) de notre traitement (je veux avoir les coeff de blended et onlide par rapport à face_to_face)\n",
        "\n",
        "ordered_categories = ['face_to_face', 'blended', 'online']\n",
        "\n",
        "df['class_format'] = pd.Categorical(df['class_format'], categories=ordered_categories, ordered=True)"
      ],
      "metadata": {
        "id": "YT9jlR9dTAZG"
      },
      "execution_count": null,
      "outputs": []
    },
    {
      "cell_type": "code",
      "source": [
        "# Nous définissons notre modèle\n",
        "\n",
        "model_exp = smf.ols('falsexam ~ C(class_format) + gender', data = df).fit()\n",
        "model_exp.summary().tables[1]"
      ],
      "metadata": {
        "colab": {
          "base_uri": "https://localhost:8080/",
          "height": 124
        },
        "id": "SwNPS66vOI-A",
        "outputId": "21fe6ff2-9244-422d-9003-a873af920c0a"
      },
      "execution_count": null,
      "outputs": [
        {
          "output_type": "execute_result",
          "data": {
            "text/plain": [
              "<class 'statsmodels.iolib.table.SimpleTable'>"
            ],
            "text/html": [
              "<table class=\"simpletable\">\n",
              "<tr>\n",
              "               <td></td>                 <th>coef</th>     <th>std err</th>      <th>t</th>      <th>P>|t|</th>  <th>[0.025</th>    <th>0.975]</th>  \n",
              "</tr>\n",
              "<tr>\n",
              "  <th>Intercept</th>                  <td>   75.6826</td> <td>    1.314</td> <td>   57.594</td> <td> 0.000</td> <td>   73.097</td> <td>   78.268</td>\n",
              "</tr>\n",
              "<tr>\n",
              "  <th>C(class_format)[T.blended]</th> <td>   -1.0789</td> <td>    1.502</td> <td>   -0.718</td> <td> 0.473</td> <td>   -4.034</td> <td>    1.877</td>\n",
              "</tr>\n",
              "<tr>\n",
              "  <th>C(class_format)[T.online]</th>  <td>   -4.5016</td> <td>    1.564</td> <td>   -2.878</td> <td> 0.004</td> <td>   -7.579</td> <td>   -1.424</td>\n",
              "</tr>\n",
              "<tr>\n",
              "  <th>gender</th>                     <td>    4.5235</td> <td>    1.281</td> <td>    3.532</td> <td> 0.000</td> <td>    2.003</td> <td>    7.043</td>\n",
              "</tr>\n",
              "</table>"
            ]
          },
          "metadata": {},
          "execution_count": 10
        }
      ]
    },
    {
      "cell_type": "code",
      "source": [
        "model_exp.summary()"
      ],
      "metadata": {
        "colab": {
          "base_uri": "https://localhost:8080/",
          "height": 489
        },
        "id": "4qaW4gOST4gf",
        "outputId": "ac9b1ace-4145-4f23-c00b-2074b4db6fca"
      },
      "execution_count": null,
      "outputs": [
        {
          "output_type": "execute_result",
          "data": {
            "text/plain": [
              "<class 'statsmodels.iolib.summary.Summary'>\n",
              "\"\"\"\n",
              "                            OLS Regression Results                            \n",
              "==============================================================================\n",
              "Dep. Variable:               falsexam   R-squared:                       0.066\n",
              "Model:                            OLS   Adj. R-squared:                  0.058\n",
              "Method:                 Least Squares   F-statistic:                     7.556\n",
              "Date:                Thu, 03 Aug 2023   Prob (F-statistic):           6.73e-05\n",
              "Time:                        12:11:45   Log-Likelihood:                -1240.2\n",
              "No. Observations:                 323   AIC:                             2488.\n",
              "Df Residuals:                     319   BIC:                             2504.\n",
              "Df Model:                           3                                         \n",
              "Covariance Type:            nonrobust                                         \n",
              "==============================================================================================\n",
              "                                 coef    std err          t      P>|t|      [0.025      0.975]\n",
              "----------------------------------------------------------------------------------------------\n",
              "Intercept                     75.6826      1.314     57.594      0.000      73.097      78.268\n",
              "C(class_format)[T.blended]    -1.0789      1.502     -0.718      0.473      -4.034       1.877\n",
              "C(class_format)[T.online]     -4.5016      1.564     -2.878      0.004      -7.579      -1.424\n",
              "gender                         4.5235      1.281      3.532      0.000       2.003       7.043\n",
              "==============================================================================\n",
              "Omnibus:                      165.558   Durbin-Watson:                   2.051\n",
              "Prob(Omnibus):                  0.000   Jarque-Bera (JB):             1471.513\n",
              "Skew:                          -1.925   Prob(JB):                         0.00\n",
              "Kurtosis:                      12.722   Cond. No.                         4.32\n",
              "==============================================================================\n",
              "\n",
              "Notes:\n",
              "[1] Standard Errors assume that the covariance matrix of the errors is correctly specified.\n",
              "\"\"\""
            ],
            "text/html": [
              "<table class=\"simpletable\">\n",
              "<caption>OLS Regression Results</caption>\n",
              "<tr>\n",
              "  <th>Dep. Variable:</th>        <td>falsexam</td>     <th>  R-squared:         </th> <td>   0.066</td>\n",
              "</tr>\n",
              "<tr>\n",
              "  <th>Model:</th>                   <td>OLS</td>       <th>  Adj. R-squared:    </th> <td>   0.058</td>\n",
              "</tr>\n",
              "<tr>\n",
              "  <th>Method:</th>             <td>Least Squares</td>  <th>  F-statistic:       </th> <td>   7.556</td>\n",
              "</tr>\n",
              "<tr>\n",
              "  <th>Date:</th>             <td>Thu, 03 Aug 2023</td> <th>  Prob (F-statistic):</th> <td>6.73e-05</td>\n",
              "</tr>\n",
              "<tr>\n",
              "  <th>Time:</th>                 <td>12:11:45</td>     <th>  Log-Likelihood:    </th> <td> -1240.2</td>\n",
              "</tr>\n",
              "<tr>\n",
              "  <th>No. Observations:</th>      <td>   323</td>      <th>  AIC:               </th> <td>   2488.</td>\n",
              "</tr>\n",
              "<tr>\n",
              "  <th>Df Residuals:</th>          <td>   319</td>      <th>  BIC:               </th> <td>   2504.</td>\n",
              "</tr>\n",
              "<tr>\n",
              "  <th>Df Model:</th>              <td>     3</td>      <th>                     </th>     <td> </td>   \n",
              "</tr>\n",
              "<tr>\n",
              "  <th>Covariance Type:</th>      <td>nonrobust</td>    <th>                     </th>     <td> </td>   \n",
              "</tr>\n",
              "</table>\n",
              "<table class=\"simpletable\">\n",
              "<tr>\n",
              "               <td></td>                 <th>coef</th>     <th>std err</th>      <th>t</th>      <th>P>|t|</th>  <th>[0.025</th>    <th>0.975]</th>  \n",
              "</tr>\n",
              "<tr>\n",
              "  <th>Intercept</th>                  <td>   75.6826</td> <td>    1.314</td> <td>   57.594</td> <td> 0.000</td> <td>   73.097</td> <td>   78.268</td>\n",
              "</tr>\n",
              "<tr>\n",
              "  <th>C(class_format)[T.blended]</th> <td>   -1.0789</td> <td>    1.502</td> <td>   -0.718</td> <td> 0.473</td> <td>   -4.034</td> <td>    1.877</td>\n",
              "</tr>\n",
              "<tr>\n",
              "  <th>C(class_format)[T.online]</th>  <td>   -4.5016</td> <td>    1.564</td> <td>   -2.878</td> <td> 0.004</td> <td>   -7.579</td> <td>   -1.424</td>\n",
              "</tr>\n",
              "<tr>\n",
              "  <th>gender</th>                     <td>    4.5235</td> <td>    1.281</td> <td>    3.532</td> <td> 0.000</td> <td>    2.003</td> <td>    7.043</td>\n",
              "</tr>\n",
              "</table>\n",
              "<table class=\"simpletable\">\n",
              "<tr>\n",
              "  <th>Omnibus:</th>       <td>165.558</td> <th>  Durbin-Watson:     </th> <td>   2.051</td>\n",
              "</tr>\n",
              "<tr>\n",
              "  <th>Prob(Omnibus):</th> <td> 0.000</td>  <th>  Jarque-Bera (JB):  </th> <td>1471.513</td>\n",
              "</tr>\n",
              "<tr>\n",
              "  <th>Skew:</th>          <td>-1.925</td>  <th>  Prob(JB):          </th> <td>    0.00</td>\n",
              "</tr>\n",
              "<tr>\n",
              "  <th>Kurtosis:</th>      <td>12.722</td>  <th>  Cond. No.          </th> <td>    4.32</td>\n",
              "</tr>\n",
              "</table><br/><br/>Notes:<br/>[1] Standard Errors assume that the covariance matrix of the errors is correctly specified."
            ]
          },
          "metadata": {},
          "execution_count": 11
        }
      ]
    },
    {
      "cell_type": "markdown",
      "source": [
        "Compte tenu du fait que les données derivent d'une expérience randomisée nous pouvons affirmer que les effets estimez pour l'enseignement online et hybride sur la note dans l'examen finale par rapport à l'enseignement en présentiel est un effet causal."
      ],
      "metadata": {
        "id": "DKa9uyLS3WW5"
      }
    },
    {
      "cell_type": "code",
      "source": [
        "residuals = model_exp.resid\n",
        "\n",
        "# Check assumptions\n",
        "# 1. Linearity, Independence, and Homoscedasticity\n",
        "plt.scatter(model_exp.fittedvalues, residuals)\n",
        "plt.xlabel('Fitted Values')\n",
        "plt.ylabel('Residuals')\n",
        "plt.title('Residual Plot')\n",
        "plt.axhline(y=0, color='r', linestyle='dashed')\n",
        "plt.show()\n",
        "\n",
        "# 2. Normality of Errors\n",
        "plt.hist(residuals, bins=20)\n",
        "plt.xlabel('Residuals')\n",
        "plt.ylabel('Frequency')\n",
        "plt.title('Histogram of Residuals')\n",
        "plt.show()\n"
      ],
      "metadata": {
        "colab": {
          "base_uri": "https://localhost:8080/",
          "height": 999
        },
        "id": "GGqy1zpScEtv",
        "outputId": "b9b92ace-ea21-4087-cfc7-a05649c6cc3a"
      },
      "execution_count": null,
      "outputs": [
        {
          "output_type": "display_data",
          "data": {
            "text/plain": [
              "<Figure size 640x480 with 1 Axes>"
            ],
            "image/png": "[encoded data removed]"
          },
          "metadata": {}
        },
        {
          "output_type": "display_data",
          "data": {
            "text/plain": [
              "<Figure size 640x480 with 1 Axes>"
            ],
            "image/png": "[encoded data removed]"
          },
          "metadata": {}
        }
      ]
    },
    {
      "cell_type": "markdown",
      "metadata": {
        "id": "ne86_tD3f5zZ"
      },
      "source": [
        "<hr style=\"border-width:2px;border-color:#75DFC1\">\n",
        "<h1 style = \"text-align:center\" > Beyond Confounders : good and bad controls ! </h1>\n",
        "<hr style=\"border-width:2px;border-color:#75DFC1\">\n",
        "<h2 style = \"text-align:center\"> Good Controls </h2>\n",
        "\n",
        "\n",
        "\n",
        "> Nous allons utiliser encore une fois des données issues d'une expérience randomizée. Le client débiteur d'une banque on été séparés de manière randomizée dans deux groupes. Nous souhaitons estimer si, en envoyant un e-mail aux clients, nous allons influencer de manière positive leur payement. Autrement dit, nous voulons savoir si envoyer un e-mail en"
      ]
    },
    {
      "cell_type": "code",
      "execution_count": null,
      "metadata": {
        "colab": {
          "base_uri": "https://localhost:8080/",
          "height": 431
        },
        "id": "RTeAiyrhgE04",
        "outputId": "03165ae9-f621-4252-dd04-aa908f368a71"
      },
      "outputs": [
        {
          "output_type": "stream",
          "name": "stdout",
          "text": [
            "<class 'pandas.core.frame.DataFrame'>\n",
            "RangeIndex: 5000 entries, 0 to 4999\n",
            "Data columns (total 6 columns):\n",
            " #   Column        Non-Null Count  Dtype  \n",
            "---  ------        --------------  -----  \n",
            " 0   payments      5000 non-null   int64  \n",
            " 1   email         5000 non-null   int64  \n",
            " 2   opened        5000 non-null   float64\n",
            " 3   agreement     5000 non-null   float64\n",
            " 4   credit_limit  5000 non-null   float64\n",
            " 5   risk_score    5000 non-null   float64\n",
            "dtypes: float64(4), int64(2)\n",
            "memory usage: 234.5 KB\n"
          ]
        },
        {
          "output_type": "execute_result",
          "data": {
            "text/plain": [
              "   payments  email  opened  agreement  credit_limit  risk_score\n",
              "0       740      1     1.0        0.0   2348.495260    0.666752\n",
              "1       580      1     1.0        1.0    334.111969    0.207395\n",
              "2       600      1     1.0        1.0   1360.660722    0.550479\n",
              "3       770      0     0.0        0.0   1531.828576    0.560488\n",
              "4       660      0     0.0        0.0    979.855647    0.455140"
            ],
            "text/html": [
              "\n",
              "\n",
              "  <div id=\"df-95c54104-e071-434c-899a-3b648c51b9ac\">\n",
              "    <div class=\"colab-df-container\">\n",
              "      <div>\n",
              "<style scoped>\n",
              "    .dataframe tbody tr th:only-of-type {\n",
              "        vertical-align: middle;\n",
              "    }\n",
              "\n",
              "    .dataframe tbody tr th {\n",
              "        vertical-align: top;\n",
              "    }\n",
              "\n",
              "    .dataframe thead th {\n",
              "        text-align: right;\n",
              "    }\n",
              "</style>\n",
              "<table border=\"1\" class=\"dataframe\">\n",
              "  <thead>\n",
              "    <tr style=\"text-align: right;\">\n",
              "      <th></th>\n",
              "      <th>payments</th>\n",
              "      <th>email</th>\n",
              "      <th>opened</th>\n",
              "      <th>agreement</th>\n",
              "      <th>credit_limit</th>\n",
              "      <th>risk_score</th>\n",
              "    </tr>\n",
              "  </thead>\n",
              "  <tbody>\n",
              "    <tr>\n",
              "      <th>0</th>\n",
              "      <td>740</td>\n",
              "      <td>1</td>\n",
              "      <td>1.0</td>\n",
              "      <td>0.0</td>\n",
              "      <td>2348.495260</td>\n",
              "      <td>0.666752</td>\n",
              "    </tr>\n",
              "    <tr>\n",
              "      <th>1</th>\n",
              "      <td>580</td>\n",
              "      <td>1</td>\n",
              "      <td>1.0</td>\n",
              "      <td>1.0</td>\n",
              "      <td>334.111969</td>\n",
              "      <td>0.207395</td>\n",
              "    </tr>\n",
              "    <tr>\n",
              "      <th>2</th>\n",
              "      <td>600</td>\n",
              "      <td>1</td>\n",
              "      <td>1.0</td>\n",
              "      <td>1.0</td>\n",
              "      <td>1360.660722</td>\n",
              "      <td>0.550479</td>\n",
              "    </tr>\n",
              "    <tr>\n",
              "      <th>3</th>\n",
              "      <td>770</td>\n",
              "      <td>0</td>\n",
              "      <td>0.0</td>\n",
              "      <td>0.0</td>\n",
              "      <td>1531.828576</td>\n",
              "      <td>0.560488</td>\n",
              "    </tr>\n",
              "    <tr>\n",
              "      <th>4</th>\n",
              "      <td>660</td>\n",
              "      <td>0</td>\n",
              "      <td>0.0</td>\n",
              "      <td>0.0</td>\n",
              "      <td>979.855647</td>\n",
              "      <td>0.455140</td>\n",
              "    </tr>\n",
              "  </tbody>\n",
              "</table>\n",
              "</div>\n",
              "      <button class=\"colab-df-convert\" onclick=\"convertToInteractive('df-95c54104-e071-434c-899a-3b648c51b9ac')\"\n",
              "              title=\"Convert this dataframe to an interactive table.\"\n",
              "              style=\"display:none;\">\n",
              "\n",
              "  <svg xmlns=\"http://www.w3.org/2000/svg\" height=\"24px\"viewBox=\"0 0 24 24\"\n",
              "       width=\"24px\">\n",
              "    <path d=\"M0 0h24v24H0V0z\" fill=\"none\"/>\n",
              "    <path d=\"M18.56 5.44l.94 2.06.94-2.06 2.06-.94-2.06-.94-.94-2.06-.94 2.06-2.06.94zm-11 1L8.5 8.5l.94-2.06 2.06-.94-2.06-.94L8.5 2.5l-.94 2.06-2.06.94zm10 10l.94 2.06.94-2.06 2.06-.94-2.06-.94-.94-2.06-.94 2.06-2.06.94z\"/><path d=\"M17.41 7.96l-1.37-1.37c-.4-.4-.92-.59-1.43-.59-.52 0-1.04.2-1.43.59L10.3 9.45l-7.72 7.72c-.78.78-.78 2.05 0 2.83L4 21.41c.39.39.9.59 1.41.59.51 0 1.02-.2 1.41-.59l7.78-7.78 2.81-2.81c.8-.78.8-2.07 0-2.86zM5.41 20L4 18.59l7.72-7.72 1.47 1.35L5.41 20z\"/>\n",
              "  </svg>\n",
              "      </button>\n",
              "\n",
              "\n",
              "\n",
              "    <div id=\"df-daff7ea5-ec57-4b45-b82f-b9e6ed6306a2\">\n",
              "      <button class=\"colab-df-quickchart\" onclick=\"quickchart('df-daff7ea5-ec57-4b45-b82f-b9e6ed6306a2')\"\n",
              "              title=\"Suggest charts.\"\n",
              "              style=\"display:none;\">\n",
              "\n",
              "<svg xmlns=\"http://www.w3.org/2000/svg\" height=\"24px\"viewBox=\"0 0 24 24\"\n",
              "     width=\"24px\">\n",
              "    <g>\n",
              "        <path d=\"M19 3H5c-1.1 0-2 .9-2 2v14c0 1.1.9 2 2 2h14c1.1 0 2-.9 2-2V5c0-1.1-.9-2-2-2zM9 17H7v-7h2v7zm4 0h-2V7h2v10zm4 0h-2v-4h2v4z\"/>\n",
              "    </g>\n",
              "</svg>\n",
              "      </button>\n",
              "    </div>\n",
              "\n",
              "<style>\n",
              "  .colab-df-quickchart {\n",
              "    background-color: #E8F0FE;\n",
              "    border: none;\n",
              "    border-radius: 50%;\n",
              "    cursor: pointer;\n",
              "    display: none;\n",
              "    fill: #1967D2;\n",
              "    height: 32px;\n",
              "    padding: 0 0 0 0;\n",
              "    width: 32px;\n",
              "  }\n",
              "\n",
              "  .colab-df-quickchart:hover {\n",
              "    background-color: #E2EBFA;\n",
              "    box-shadow: 0px 1px 2px rgba(60, 64, 67, 0.3), 0px 1px 3px 1px rgba(60, 64, 67, 0.15);\n",
              "    fill: #174EA6;\n",
              "  }\n",
              "\n",
              "  [theme=dark] .colab-df-quickchart {\n",
              "    background-color: #3B4455;\n",
              "    fill: #D2E3FC;\n",
              "  }\n",
              "\n",
              "  [theme=dark] .colab-df-quickchart:hover {\n",
              "    background-color: #434B5C;\n",
              "    box-shadow: 0px 1px 3px 1px rgba(0, 0, 0, 0.15);\n",
              "    filter: drop-shadow(0px 1px 2px rgba(0, 0, 0, 0.3));\n",
              "    fill: #FFFFFF;\n",
              "  }\n",
              "</style>\n",
              "\n",
              "    <script>\n",
              "      async function quickchart(key) {\n",
              "        const containerElement = document.querySelector('#' + key);\n",
              "        const charts = await google.colab.kernel.invokeFunction(\n",
              "            'suggestCharts', [key], {});\n",
              "      }\n",
              "    </script>\n",
              "\n",
              "      <script>\n",
              "\n",
              "function displayQuickchartButton(domScope) {\n",
              "  let quickchartButtonEl =\n",
              "    domScope.querySelector('#df-daff7ea5-ec57-4b45-b82f-b9e6ed6306a2 button.colab-df-quickchart');\n",
              "  quickchartButtonEl.style.display =\n",
              "    google.colab.kernel.accessAllowed ? 'block' : 'none';\n",
              "}\n",
              "\n",
              "        displayQuickchartButton(document);\n",
              "      </script>\n",
              "      <style>\n",
              "    .colab-df-container {\n",
              "      display:flex;\n",
              "      flex-wrap:wrap;\n",
              "      gap: 12px;\n",
              "    }\n",
              "\n",
              "    .colab-df-convert {\n",
              "      background-color: #E8F0FE;\n",
              "      border: none;\n",
              "      border-radius: 50%;\n",
              "      cursor: pointer;\n",
              "      display: none;\n",
              "      fill: #1967D2;\n",
              "      height: 32px;\n",
              "      padding: 0 0 0 0;\n",
              "      width: 32px;\n",
              "    }\n",
              "\n",
              "    .colab-df-convert:hover {\n",
              "      background-color: #E2EBFA;\n",
              "      box-shadow: 0px 1px 2px rgba(60, 64, 67, 0.3), 0px 1px 3px 1px rgba(60, 64, 67, 0.15);\n",
              "      fill: #174EA6;\n",
              "    }\n",
              "\n",
              "    [theme=dark] .colab-df-convert {\n",
              "      background-color: #3B4455;\n",
              "      fill: #D2E3FC;\n",
              "    }\n",
              "\n",
              "    [theme=dark] .colab-df-convert:hover {\n",
              "      background-color: #434B5C;\n",
              "      box-shadow: 0px 1px 3px 1px rgba(0, 0, 0, 0.15);\n",
              "      filter: drop-shadow(0px 1px 2px rgba(0, 0, 0, 0.3));\n",
              "      fill: #FFFFFF;\n",
              "    }\n",
              "  </style>\n",
              "\n",
              "      <script>\n",
              "        const buttonEl =\n",
              "          document.querySelector('#df-95c54104-e071-434c-899a-3b648c51b9ac button.colab-df-convert');\n",
              "        buttonEl.style.display =\n",
              "          google.colab.kernel.accessAllowed ? 'block' : 'none';\n",
              "\n",
              "        async function convertToInteractive(key) {\n",
              "          const element = document.querySelector('#df-95c54104-e071-434c-899a-3b648c51b9ac');\n",
              "          const dataTable =\n",
              "            await google.colab.kernel.invokeFunction('convertToInteractive',\n",
              "                                                     [key], {});\n",
              "          if (!dataTable) return;\n",
              "\n",
              "          const docLinkHtml = 'Like what you see? Visit the ' +\n",
              "            '<a target=\"_blank\" href=https://colab.research.google.com/notebooks/data_table.ipynb>data table notebook</a>'\n",
              "            + ' to learn more about interactive tables.';\n",
              "          element.innerHTML = '';\n",
              "          dataTable['output_type'] = 'display_data';\n",
              "          await google.colab.output.renderOutput(dataTable, element);\n",
              "          const docLink = document.createElement('div');\n",
              "          docLink.innerHTML = docLinkHtml;\n",
              "          element.appendChild(docLink);\n",
              "        }\n",
              "      </script>\n",
              "    </div>\n",
              "  </div>\n"
            ]
          },
          "metadata": {},
          "execution_count": 31
        }
      ],
      "source": [
        "df = pd.read_csv('drive/My Drive/causal_inference/collections_email.csv')\n",
        "df.shape\n",
        "df.info()\n",
        "df.head()"
      ]
    },
    {
      "cell_type": "code",
      "execution_count": null,
      "metadata": {
        "colab": {
          "base_uri": "https://localhost:8080/",
          "height": 99
        },
        "id": "jBt5Vfywi0yB",
        "outputId": "fdf7308a-f0e8-4592-d214-1746f74d2bdf"
      },
      "outputs": [
        {
          "output_type": "stream",
          "name": "stdout",
          "text": [
            "Difference in means: -0.6202804021329484\n"
          ]
        },
        {
          "output_type": "execute_result",
          "data": {
            "text/plain": [
              "<class 'statsmodels.iolib.table.SimpleTable'>"
            ],
            "text/html": [
              "<table class=\"simpletable\">\n",
              "<tr>\n",
              "      <td></td>         <th>coef</th>     <th>std err</th>      <th>t</th>      <th>P>|t|</th>  <th>[0.025</th>    <th>0.975]</th>  \n",
              "</tr>\n",
              "<tr>\n",
              "  <th>Intercept</th> <td>  669.9764</td> <td>    2.061</td> <td>  325.116</td> <td> 0.000</td> <td>  665.937</td> <td>  674.016</td>\n",
              "</tr>\n",
              "<tr>\n",
              "  <th>email</th>     <td>   -0.6203</td> <td>    2.941</td> <td>   -0.211</td> <td> 0.833</td> <td>   -6.387</td> <td>    5.146</td>\n",
              "</tr>\n",
              "</table>"
            ]
          },
          "metadata": {},
          "execution_count": 36
        }
      ],
      "source": [
        "# l'expérience est randomizée, l'entreprise à sélectionné 5000 clients et de manière aléatoire nous avons assigné chaque observation à un groupe\n",
        "\n",
        "print(\"Difference in means:\",\n",
        "      df.query(\"email==1\")[\"payments\"].mean() - df.query(\"email==0\")[\"payments\"].mean())\n",
        "\n",
        "model = smf.ols('payments ~ email', data=df).fit()\n",
        "model.summary().tables[1]"
      ]
    },
    {
      "cell_type": "code",
      "source": [
        "# le signe du coeff pour \"email\" est négatifs, cependant l'interval de confiance est très grand\n",
        "\n",
        "sns.scatterplot(df, x = \"email\", y = \"payments\", alpha=0.8)\n",
        "plt.plot(np.linspace(-0.2, 1.2), model.params[0] + np.linspace(-1, 2) * model.params[1], c=\"C1\")\n",
        "plt.xlabel(\"Email\")\n",
        "plt.ylabel(\"Payments\");"
      ],
      "metadata": {
        "colab": {
          "base_uri": "https://localhost:8080/",
          "height": 478
        },
        "id": "JOpN6ZQvpmhP",
        "outputId": "1e50cf31-8e9b-4821-8826-57183f28052d"
      },
      "execution_count": null,
      "outputs": [
        {
          "output_type": "display_data",
          "data": {
            "text/plain": [
              "<Figure size 640x480 with 1 Axes>"
            ],
            "image/png": "[encoded data removed]"
          },
          "metadata": {}
        }
      ]
    },
    {
      "cell_type": "markdown",
      "source": [
        "Nous pouvons voir à quel point les paiements varient considérablement dans un seul groupe de traitement. Visuellement, cela semble aller d'un peu moins de 400 à 1000 dans les deux groupes. Si l'impact de l'e-mail est de l'ordre de 5,00 ou 10,00 R$, il n'est pas étonnant qu'il soit difficile de le trouver au milieu de toute cette variabilité.\n",
        "\n",
        "Heureusement, la régression peut nous aider à réduire cette variabilité. L'idée est d'utiliser des contrôles supplémentaires. Si une variable est un bon prédicteur du résultat, elle expliquera une grande partie de sa variance. Si le risque et la limite de crédit sont de bons prédicteurs des paiements, nous pouvons les contrôler pour faciliter la recherche de l'impact de l'e-mail sur les paiements."
      ],
      "metadata": {
        "id": "l7prXRAZsToH"
      }
    },
    {
      "cell_type": "code",
      "source": [
        "# Réflechissons à notre problématique\n",
        "# Par exemple, credit_limit représente la limite de crédit du client avant qu'il ne soit en retard dans ses paiements.\n",
        "# risk_score correspond au risque estimé du client avant la réception de l'e-mail.\n",
        "\n",
        "\n",
        "g = gr.Digraph()\n",
        "g.edge(\"X\", \"Y\"), g.edge(\"T\", \"Y\")\n",
        "g.node(\"T\", color=\"gold\")\n",
        "\n",
        "g.node(\"email\", color=\"gold\")\n",
        "g.edge(\"credit_limit\", \"payments\")\n",
        "g.edge(\"risk_score\", \"payments\")\n",
        "g.edge(\"email\", \"payments\")\n",
        "\n",
        "g"
      ],
      "metadata": {
        "colab": {
          "base_uri": "https://localhost:8080/",
          "height": 176
        },
        "id": "77m2P_bTqwCw",
        "outputId": "f8600fe6-d29e-43ce-f91f-4df65a39661f"
      },
      "execution_count": null,
      "outputs": [
        {
          "output_type": "execute_result",
          "data": {
            "image/svg+xml": "<?xml version=\"1.0\" encoding=\"UTF-8\" standalone=\"no\"?>\n<!DOCTYPE svg PUBLIC \"-//W3C//DTD SVG 1.1//EN\"\n \"http://www.w3.org/Graphics/SVG/1.1/DTD/svg11.dtd\">\n<!-- Generated by graphviz version 2.43.0 (0)\n -->\n<!-- Title: %3 Pages: 1 -->\n<svg width=\"448pt\" height=\"116pt\"\n viewBox=\"0.00 0.00 447.80 116.00\" xmlns=\"http://www.w3.org/2000/svg\" xmlns:xlink=\"http://www.w3.org/1999/xlink\">\n<g id=\"graph0\" class=\"graph\" transform=\"scale(1 1) rotate(0) translate(4 112)\">\n<title>%3</title>\n<polygon fill=\"white\" stroke=\"transparent\" points=\"-4,4 -4,-112 443.8,-112 443.8,4 -4,4\"/>\n<!-- X -->\n<g id=\"node1\" class=\"node\">\n<title>X</title>\n<ellipse fill=\"none\" stroke=\"black\" cx=\"27\" cy=\"-90\" rx=\"27\" ry=\"18\"/>\n<text text-anchor=\"middle\" x=\"27\" y=\"-86.3\" font-family=\"Times,serif\" font-size=\"14.00\">X</text>\n</g>\n<!-- Y -->\n<g id=\"node2\" class=\"node\">\n<title>Y</title>\n<ellipse fill=\"none\" stroke=\"black\" cx=\"63\" cy=\"-18\" rx=\"27\" ry=\"18\"/>\n<text text-anchor=\"middle\" x=\"63\" y=\"-14.3\" font-family=\"Times,serif\" font-size=\"14.00\">Y</text>\n</g>\n<!-- X&#45;&gt;Y -->\n<g id=\"edge1\" class=\"edge\">\n<title>X&#45;&gt;Y</title>\n<path fill=\"none\" stroke=\"black\" d=\"M35.35,-72.76C39.71,-64.28 45.15,-53.71 50.04,-44.2\"/>\n<polygon fill=\"black\" stroke=\"black\" points=\"53.23,-45.64 54.7,-35.15 47.01,-42.44 53.23,-45.64\"/>\n</g>\n<!-- T -->\n<g id=\"node3\" class=\"node\">\n<title>T</title>\n<ellipse fill=\"none\" stroke=\"gold\" cx=\"99\" cy=\"-90\" rx=\"27\" ry=\"18\"/>\n<text text-anchor=\"middle\" x=\"99\" y=\"-86.3\" font-family=\"Times,serif\" font-size=\"14.00\">T</text>\n</g>\n<!-- T&#45;&gt;Y -->\n<g id=\"edge2\" class=\"edge\">\n<title>T&#45;&gt;Y</title>\n<path fill=\"none\" stroke=\"black\" d=\"M90.65,-72.76C86.29,-64.28 80.85,-53.71 75.96,-44.2\"/>\n<polygon fill=\"black\" stroke=\"black\" points=\"78.99,-42.44 71.3,-35.15 72.77,-45.64 78.99,-42.44\"/>\n</g>\n<!-- email -->\n<g id=\"node4\" class=\"node\">\n<title>email</title>\n<ellipse fill=\"none\" stroke=\"gold\" cx=\"175\" cy=\"-90\" rx=\"30.59\" ry=\"18\"/>\n<text text-anchor=\"middle\" x=\"175\" y=\"-86.3\" font-family=\"Times,serif\" font-size=\"14.00\">email</text>\n</g>\n<!-- payments -->\n<g id=\"node6\" class=\"node\">\n<title>payments</title>\n<ellipse fill=\"none\" stroke=\"black\" cx=\"276\" cy=\"-18\" rx=\"44.69\" ry=\"18\"/>\n<text text-anchor=\"middle\" x=\"276\" y=\"-14.3\" font-family=\"Times,serif\" font-size=\"14.00\">payments</text>\n</g>\n<!-- email&#45;&gt;payments -->\n<g id=\"edge5\" class=\"edge\">\n<title>email&#45;&gt;payments</title>\n<path fill=\"none\" stroke=\"black\" d=\"M194,-75.83C208.6,-65.72 229.04,-51.55 245.87,-39.89\"/>\n<polygon fill=\"black\" stroke=\"black\" points=\"248.06,-42.62 254.28,-34.05 244.07,-36.87 248.06,-42.62\"/>\n</g>\n<!-- credit_limit -->\n<g id=\"node5\" class=\"node\">\n<title>credit_limit</title>\n<ellipse fill=\"none\" stroke=\"black\" cx=\"276\" cy=\"-90\" rx=\"51.99\" ry=\"18\"/>\n<text text-anchor=\"middle\" x=\"276\" y=\"-86.3\" font-family=\"Times,serif\" font-size=\"14.00\">credit_limit</text>\n</g>\n<!-- credit_limit&#45;&gt;payments -->\n<g id=\"edge3\" class=\"edge\">\n<title>credit_limit&#45;&gt;payments</title>\n<path fill=\"none\" stroke=\"black\" d=\"M276,-71.7C276,-63.98 276,-54.71 276,-46.11\"/>\n<polygon fill=\"black\" stroke=\"black\" points=\"279.5,-46.1 276,-36.1 272.5,-46.1 279.5,-46.1\"/>\n</g>\n<!-- risk_score -->\n<g id=\"node7\" class=\"node\">\n<title>risk_score</title>\n<ellipse fill=\"none\" stroke=\"black\" cx=\"393\" cy=\"-90\" rx=\"46.59\" ry=\"18\"/>\n<text text-anchor=\"middle\" x=\"393\" y=\"-86.3\" font-family=\"Times,serif\" font-size=\"14.00\">risk_score</text>\n</g>\n<!-- risk_score&#45;&gt;payments -->\n<g id=\"edge4\" class=\"edge\">\n<title>risk_score&#45;&gt;payments</title>\n<path fill=\"none\" stroke=\"black\" d=\"M368.76,-74.5C351.42,-64.12 327.89,-50.05 308.87,-38.66\"/>\n<polygon fill=\"black\" stroke=\"black\" points=\"310.59,-35.62 300.21,-33.49 307,-41.62 310.59,-35.62\"/>\n</g>\n</g>\n</svg>\n",
            "text/plain": [
              "<graphviz.graphs.Digraph at 0x7aa594929720>"
            ]
          },
          "metadata": {},
          "execution_count": 38
        }
      ]
    },
    {
      "cell_type": "code",
      "source": [
        "model_2 = smf.ols('payments ~ email + credit_limit + risk_score', data=df).fit()\n",
        "model_2.summary().tables[1]"
      ],
      "metadata": {
        "colab": {
          "base_uri": "https://localhost:8080/",
          "height": 123
        },
        "id": "oiqWSJ2hrNuP",
        "outputId": "37fc5311-bb42-4be9-9547-ec8a0e95c753"
      },
      "execution_count": null,
      "outputs": [
        {
          "output_type": "execute_result",
          "data": {
            "text/plain": [
              "<class 'statsmodels.iolib.table.SimpleTable'>"
            ],
            "text/html": [
              "<table class=\"simpletable\">\n",
              "<tr>\n",
              "        <td></td>          <th>coef</th>     <th>std err</th>      <th>t</th>      <th>P>|t|</th>  <th>[0.025</th>    <th>0.975]</th>  \n",
              "</tr>\n",
              "<tr>\n",
              "  <th>Intercept</th>    <td>  490.8653</td> <td>    9.715</td> <td>   50.527</td> <td> 0.000</td> <td>  471.820</td> <td>  509.911</td>\n",
              "</tr>\n",
              "<tr>\n",
              "  <th>email</th>        <td>    4.4304</td> <td>    2.130</td> <td>    2.080</td> <td> 0.038</td> <td>    0.255</td> <td>    8.606</td>\n",
              "</tr>\n",
              "<tr>\n",
              "  <th>credit_limit</th> <td>    0.1511</td> <td>    0.008</td> <td>   18.833</td> <td> 0.000</td> <td>    0.135</td> <td>    0.167</td>\n",
              "</tr>\n",
              "<tr>\n",
              "  <th>risk_score</th>   <td>   -8.0516</td> <td>   38.424</td> <td>   -0.210</td> <td> 0.834</td> <td>  -83.379</td> <td>   67.276</td>\n",
              "</tr>\n",
              "</table>"
            ]
          },
          "metadata": {},
          "execution_count": 40
        }
      ]
    },
    {
      "cell_type": "markdown",
      "source": [
        "<h2 style = \"text-align:center\"> Bad Controls </h2>"
      ],
      "metadata": {
        "id": "aZ2_oM6zsSXv"
      }
    },
    {
      "cell_type": "code",
      "source": [
        "email_2 = smf.ols('payments ~ email + credit_limit + risk_score + opened + agreement', data=df).fit()\n",
        "email_2.summary().tables[1]"
      ],
      "metadata": {
        "colab": {
          "base_uri": "https://localhost:8080/",
          "height": 165
        },
        "id": "l8DJ1FB0xQvf",
        "outputId": "bc46154d-1f25-4c8e-acf5-eee34592fd82"
      },
      "execution_count": null,
      "outputs": [
        {
          "output_type": "execute_result",
          "data": {
            "text/plain": [
              "<class 'statsmodels.iolib.table.SimpleTable'>"
            ],
            "text/html": [
              "<table class=\"simpletable\">\n",
              "<tr>\n",
              "        <td></td>          <th>coef</th>     <th>std err</th>      <th>t</th>      <th>P>|t|</th>  <th>[0.025</th>    <th>0.975]</th>  \n",
              "</tr>\n",
              "<tr>\n",
              "  <th>Intercept</th>    <td>  488.4416</td> <td>    9.716</td> <td>   50.272</td> <td> 0.000</td> <td>  469.394</td> <td>  507.489</td>\n",
              "</tr>\n",
              "<tr>\n",
              "  <th>email</th>        <td>   -1.6095</td> <td>    2.724</td> <td>   -0.591</td> <td> 0.555</td> <td>   -6.949</td> <td>    3.730</td>\n",
              "</tr>\n",
              "<tr>\n",
              "  <th>credit_limit</th> <td>    0.1507</td> <td>    0.008</td> <td>   18.809</td> <td> 0.000</td> <td>    0.135</td> <td>    0.166</td>\n",
              "</tr>\n",
              "<tr>\n",
              "  <th>risk_score</th>   <td>   -2.0929</td> <td>   38.375</td> <td>   -0.055</td> <td> 0.957</td> <td>  -77.325</td> <td>   73.139</td>\n",
              "</tr>\n",
              "<tr>\n",
              "  <th>opened</th>       <td>    3.9808</td> <td>    3.914</td> <td>    1.017</td> <td> 0.309</td> <td>   -3.692</td> <td>   11.654</td>\n",
              "</tr>\n",
              "<tr>\n",
              "  <th>agreement</th>    <td>   11.7093</td> <td>    4.166</td> <td>    2.811</td> <td> 0.005</td> <td>    3.542</td> <td>   19.876</td>\n",
              "</tr>\n",
              "</table>"
            ]
          },
          "metadata": {},
          "execution_count": 42
        }
      ]
    },
    {
      "cell_type": "markdown",
      "source": [
        "Nous savons que nous DEVONS ajouter des variables confondantes. Ce sont des variables qui influencent à la fois le traitement (l'e-mail) et le résultat (les paiements). Nous savons également qu'il est une bonne idée d'ajouter des contrôles qui prédisent très bien le résultat. Ce n'est pas obligatoire, mais c'est bien d'en avoir. Par contre, il est déconseillé d'ajouter des contrôles qui prédisent uniquement le traitement (l'e-mail). Encore une fois, ce n'est pas un péché mortel, mais il est préférable de les éviter. Alors, quels types de contrôles sont ouverts à discussion ? Il s'avère qu'ils ne correspondent à aucune des catégories mentionnées ci-dessus.\n",
        "\n",
        "Si vous y réfléchissez, le fait d'ouvrir l'e-mail (opened) et l'accord (agreement) sont sûrement corrélés avec l'e-mail. Après tout, vous ne pouvez pas ouvrir l'e-mail si vous ne l'avez pas reçu, et nous avons également dit que l'accord ne concerne que les renégociations qui ont eu lieu après l'envoi de l'e-mail. Mais ils ne causent pas l'e-mail ! Au contraire, ils sont causés par lui !"
      ],
      "metadata": {
        "id": "YzSUMgTGzGUj"
      }
    },
    {
      "cell_type": "code",
      "source": [
        "g = gr.Digraph()\n",
        "\n",
        "g.edge(\"email\", \"payments\")\n",
        "g.edge(\"email\", \"opened\")\n",
        "g.edge(\"email\", \"agreement\")\n",
        "g.edge(\"opened\", \"payments\")\n",
        "g.edge(\"opened\", \"agreement\")\n",
        "g.edge(\"agreement\", \"payments\")\n",
        "\n",
        "g.edge(\"credit_limit\", \"payments\")\n",
        "g.edge(\"credit_limit\", \"opened\")\n",
        "g.edge(\"credit_limit\", \"agreement\")\n",
        "g.edge(\"risk_score\", \"payments\")\n",
        "g.edge(\"risk_score\", \"opened\")\n",
        "g.edge(\"risk_score\", \"agreement\")\n",
        "\n",
        "g"
      ],
      "metadata": {
        "colab": {
          "base_uri": "https://localhost:8080/",
          "height": 368
        },
        "id": "Qw8VvBilzmyS",
        "outputId": "f5b6d0fd-458d-4510-eaaa-504820c8a17b"
      },
      "execution_count": null,
      "outputs": [
        {
          "output_type": "execute_result",
          "data": {
            "image/svg+xml": "<?xml version=\"1.0\" encoding=\"UTF-8\" standalone=\"no\"?>\n<!DOCTYPE svg PUBLIC \"-//W3C//DTD SVG 1.1//EN\"\n \"http://www.w3.org/Graphics/SVG/1.1/DTD/svg11.dtd\">\n<!-- Generated by graphviz version 2.43.0 (0)\n -->\n<!-- Title: %3 Pages: 1 -->\n<svg width=\"303pt\" height=\"260pt\"\n viewBox=\"0.00 0.00 303.34 260.00\" xmlns=\"http://www.w3.org/2000/svg\" xmlns:xlink=\"http://www.w3.org/1999/xlink\">\n<g id=\"graph0\" class=\"graph\" transform=\"scale(1 1) rotate(0) translate(4 256)\">\n<title>%3</title>\n<polygon fill=\"white\" stroke=\"transparent\" points=\"-4,4 -4,-256 299.34,-256 299.34,4 -4,4\"/>\n<!-- email -->\n<g id=\"node1\" class=\"node\">\n<title>email</title>\n<ellipse fill=\"none\" stroke=\"black\" cx=\"30.55\" cy=\"-234\" rx=\"30.59\" ry=\"18\"/>\n<text text-anchor=\"middle\" x=\"30.55\" y=\"-230.3\" font-family=\"Times,serif\" font-size=\"14.00\">email</text>\n</g>\n<!-- payments -->\n<g id=\"node2\" class=\"node\">\n<title>payments</title>\n<ellipse fill=\"none\" stroke=\"black\" cx=\"170.55\" cy=\"-18\" rx=\"44.69\" ry=\"18\"/>\n<text text-anchor=\"middle\" x=\"170.55\" y=\"-14.3\" font-family=\"Times,serif\" font-size=\"14.00\">payments</text>\n</g>\n<!-- email&#45;&gt;payments -->\n<g id=\"edge1\" class=\"edge\">\n<title>email&#45;&gt;payments</title>\n<path fill=\"none\" stroke=\"black\" d=\"M25.81,-216.06C18.06,-184.46 6.44,-115.8 37.55,-72 56.02,-45.99 89.41,-32.73 118.11,-25.99\"/>\n<polygon fill=\"black\" stroke=\"black\" points=\"118.99,-29.38 128.03,-23.86 117.52,-22.53 118.99,-29.38\"/>\n</g>\n<!-- opened -->\n<g id=\"node3\" class=\"node\">\n<title>opened</title>\n<ellipse fill=\"none\" stroke=\"black\" cx=\"132.55\" cy=\"-162\" rx=\"36.29\" ry=\"18\"/>\n<text text-anchor=\"middle\" x=\"132.55\" y=\"-158.3\" font-family=\"Times,serif\" font-size=\"14.00\">opened</text>\n</g>\n<!-- email&#45;&gt;opened -->\n<g id=\"edge2\" class=\"edge\">\n<title>email&#45;&gt;opened</title>\n<path fill=\"none\" stroke=\"black\" d=\"M49.73,-219.83C64.87,-209.45 86.23,-194.79 103.47,-182.96\"/>\n<polygon fill=\"black\" stroke=\"black\" points=\"105.78,-185.61 112.05,-177.07 101.82,-179.84 105.78,-185.61\"/>\n</g>\n<!-- agreement -->\n<g id=\"node4\" class=\"node\">\n<title>agreement</title>\n<ellipse fill=\"none\" stroke=\"black\" cx=\"94.55\" cy=\"-90\" rx=\"48.19\" ry=\"18\"/>\n<text text-anchor=\"middle\" x=\"94.55\" y=\"-86.3\" font-family=\"Times,serif\" font-size=\"14.00\">agreement</text>\n</g>\n<!-- email&#45;&gt;agreement -->\n<g id=\"edge3\" class=\"edge\">\n<title>email&#45;&gt;agreement</title>\n<path fill=\"none\" stroke=\"black\" d=\"M38.01,-216.43C49.03,-191.98 69.76,-146 82.82,-117.02\"/>\n<polygon fill=\"black\" stroke=\"black\" points=\"86.01,-118.46 86.93,-107.9 79.63,-115.58 86.01,-118.46\"/>\n</g>\n<!-- opened&#45;&gt;payments -->\n<g id=\"edge4\" class=\"edge\">\n<title>opened&#45;&gt;payments</title>\n<path fill=\"none\" stroke=\"black\" d=\"M139.3,-144C143.22,-133.7 148.07,-120.22 151.55,-108 157.35,-87.61 162.29,-64.15 165.68,-46.44\"/>\n<polygon fill=\"black\" stroke=\"black\" points=\"169.19,-46.7 167.58,-36.23 162.3,-45.42 169.19,-46.7\"/>\n</g>\n<!-- opened&#45;&gt;agreement -->\n<g id=\"edge5\" class=\"edge\">\n<title>opened&#45;&gt;agreement</title>\n<path fill=\"none\" stroke=\"black\" d=\"M123.54,-144.41C119.06,-136.16 113.55,-126.01 108.54,-116.78\"/>\n<polygon fill=\"black\" stroke=\"black\" points=\"111.6,-115.07 103.75,-107.96 105.45,-118.41 111.6,-115.07\"/>\n</g>\n<!-- agreement&#45;&gt;payments -->\n<g id=\"edge6\" class=\"edge\">\n<title>agreement&#45;&gt;payments</title>\n<path fill=\"none\" stroke=\"black\" d=\"M111.79,-73.12C121.9,-63.81 134.83,-51.9 145.99,-41.62\"/>\n<polygon fill=\"black\" stroke=\"black\" points=\"148.39,-44.17 153.37,-34.82 143.64,-39.02 148.39,-44.17\"/>\n</g>\n<!-- credit_limit -->\n<g id=\"node5\" class=\"node\">\n<title>credit_limit</title>\n<ellipse fill=\"none\" stroke=\"black\" cx=\"131.55\" cy=\"-234\" rx=\"51.99\" ry=\"18\"/>\n<text text-anchor=\"middle\" x=\"131.55\" y=\"-230.3\" font-family=\"Times,serif\" font-size=\"14.00\">credit_limit</text>\n</g>\n<!-- credit_limit&#45;&gt;payments -->\n<g id=\"edge7\" class=\"edge\">\n<title>credit_limit&#45;&gt;payments</title>\n<path fill=\"none\" stroke=\"black\" d=\"M150.93,-217C160.95,-207.45 172.18,-194.38 177.55,-180 194.24,-135.3 185.59,-78.71 177.95,-45.9\"/>\n<polygon fill=\"black\" stroke=\"black\" points=\"181.33,-45 175.54,-36.13 174.53,-46.68 181.33,-45\"/>\n</g>\n<!-- credit_limit&#45;&gt;opened -->\n<g id=\"edge8\" class=\"edge\">\n<title>credit_limit&#45;&gt;opened</title>\n<path fill=\"none\" stroke=\"black\" d=\"M131.79,-215.7C131.9,-207.98 132.04,-198.71 132.16,-190.11\"/>\n<polygon fill=\"black\" stroke=\"black\" points=\"135.66,-190.15 132.3,-180.1 128.66,-190.05 135.66,-190.15\"/>\n</g>\n<!-- credit_limit&#45;&gt;agreement -->\n<g id=\"edge9\" class=\"edge\">\n<title>credit_limit&#45;&gt;agreement</title>\n<path fill=\"none\" stroke=\"black\" d=\"M112.99,-216.84C103.4,-207.23 92.66,-194.17 87.55,-180 80.33,-160.01 82.85,-135.91 86.75,-117.83\"/>\n<polygon fill=\"black\" stroke=\"black\" points=\"90.19,-118.5 89.14,-107.96 83.39,-116.85 90.19,-118.5\"/>\n</g>\n<!-- risk_score -->\n<g id=\"node6\" class=\"node\">\n<title>risk_score</title>\n<ellipse fill=\"none\" stroke=\"black\" cx=\"248.55\" cy=\"-234\" rx=\"46.59\" ry=\"18\"/>\n<text text-anchor=\"middle\" x=\"248.55\" y=\"-230.3\" font-family=\"Times,serif\" font-size=\"14.00\">risk_score</text>\n</g>\n<!-- risk_score&#45;&gt;payments -->\n<g id=\"edge10\" class=\"edge\">\n<title>risk_score&#45;&gt;payments</title>\n<path fill=\"none\" stroke=\"black\" d=\"M244.52,-215.67C237.28,-185.73 220.84,-122.63 199.55,-72 195.67,-62.77 190.65,-53.05 185.88,-44.5\"/>\n<polygon fill=\"black\" stroke=\"black\" points=\"188.87,-42.68 180.87,-35.74 182.8,-46.16 188.87,-42.68\"/>\n</g>\n<!-- risk_score&#45;&gt;opened -->\n<g id=\"edge11\" class=\"edge\">\n<title>risk_score&#45;&gt;opened</title>\n<path fill=\"none\" stroke=\"black\" d=\"M224.51,-218.5C206.87,-207.85 182.75,-193.29 163.64,-181.76\"/>\n<polygon fill=\"black\" stroke=\"black\" points=\"165.35,-178.71 154.98,-176.54 161.73,-184.7 165.35,-178.71\"/>\n</g>\n<!-- risk_score&#45;&gt;agreement -->\n<g id=\"edge12\" class=\"edge\">\n<title>risk_score&#45;&gt;agreement</title>\n<path fill=\"none\" stroke=\"black\" d=\"M237.67,-216.22C224.82,-197.23 202.08,-166.08 177.55,-144 163.31,-131.19 145.64,-119.44 130.27,-110.28\"/>\n<polygon fill=\"black\" stroke=\"black\" points=\"131.93,-107.2 121.53,-105.2 128.41,-113.25 131.93,-107.2\"/>\n</g>\n</g>\n</svg>\n",
            "text/plain": [
              "<graphviz.graphs.Digraph at 0x7aa594953b20>"
            ]
          },
          "metadata": {},
          "execution_count": 43
        }
      ]
    },
    {
      "cell_type": "markdown",
      "source": [
        "Ce que nous remarquons avec ce graphique, c'est que \"opened\" (ouverture de l'e-mail) et \"agreement\" (accord) font tous deux partie du chemin causal entre l'e-mail et les paiements. Ainsi, si nous les contrôlons avec une régression, nous dirions \"voici l'effet de l'e-mail en maintenant l'ouverture de l'e-mail et l'accord constants\". Cependant, **les deux font partie de l'effet causal de l'e-mail**, donc **nous ne voulons pas les maintenir constants**. Au lieu de cela, nous pourrions avancer l'argument selon lequel l'e-mail augmente les paiements précisément parce qu'il stimule le taux d'accord. Si nous fixons ces variables, nous éliminons une partie de l'effet réel de la variable e-mail.\n",
        "\n",
        "\n",
        "\n",
        "\n",
        "\n"
      ],
      "metadata": {
        "id": "6oCRQtH50JZD"
      }
    },
    {
      "cell_type": "markdown",
      "source": [
        "<h2 style = \"text-align:center\"> Matching </h2>"
      ],
      "metadata": {
        "id": "CIzAh62tRJEi"
      }
    },
    {
      "cell_type": "code",
      "execution_count": null,
      "metadata": {
        "colab": {
          "base_uri": "https://localhost:8080/",
          "height": 414
        },
        "id": "BTvBqHXzFnjN",
        "outputId": "7704d233-45d5-448c-d2fb-51310186bf60"
      },
      "outputs": [
        {
          "output_type": "stream",
          "name": "stdout",
          "text": [
            "(40, 4)\n",
            "<class 'pandas.core.frame.DataFrame'>\n",
            "RangeIndex: 40 entries, 0 to 39\n",
            "Data columns (total 4 columns):\n",
            " #   Column    Non-Null Count  Dtype\n",
            "---  ------    --------------  -----\n",
            " 0   unit      40 non-null     int64\n",
            " 1   trainees  40 non-null     int64\n",
            " 2   age       40 non-null     int64\n",
            " 3   earnings  40 non-null     int64\n",
            "dtypes: int64(4)\n",
            "memory usage: 1.4 KB\n"
          ]
        },
        {
          "output_type": "execute_result",
          "data": {
            "text/plain": [
              "   unit  trainees  age  earnings\n",
              "0     1         1   28     17700\n",
              "1     2         1   34     10200\n",
              "2     3         1   29     14400\n",
              "3     4         1   25     20800\n",
              "4     5         1   29      6100"
            ],
            "text/html": [
              "\n",
              "\n",
              "  <div id=\"df-4408ccfd-969d-40ec-9cf0-465322a53ed7\">\n",
              "    <div class=\"colab-df-container\">\n",
              "      <div>\n",
              "<style scoped>\n",
              "    .dataframe tbody tr th:only-of-type {\n",
              "        vertical-align: middle;\n",
              "    }\n",
              "\n",
              "    .dataframe tbody tr th {\n",
              "        vertical-align: top;\n",
              "    }\n",
              "\n",
              "    .dataframe thead th {\n",
              "        text-align: right;\n",
              "    }\n",
              "</style>\n",
              "<table border=\"1\" class=\"dataframe\">\n",
              "  <thead>\n",
              "    <tr style=\"text-align: right;\">\n",
              "      <th></th>\n",
              "      <th>unit</th>\n",
              "      <th>trainees</th>\n",
              "      <th>age</th>\n",
              "      <th>earnings</th>\n",
              "    </tr>\n",
              "  </thead>\n",
              "  <tbody>\n",
              "    <tr>\n",
              "      <th>0</th>\n",
              "      <td>1</td>\n",
              "      <td>1</td>\n",
              "      <td>28</td>\n",
              "      <td>17700</td>\n",
              "    </tr>\n",
              "    <tr>\n",
              "      <th>1</th>\n",
              "      <td>2</td>\n",
              "      <td>1</td>\n",
              "      <td>34</td>\n",
              "      <td>10200</td>\n",
              "    </tr>\n",
              "    <tr>\n",
              "      <th>2</th>\n",
              "      <td>3</td>\n",
              "      <td>1</td>\n",
              "      <td>29</td>\n",
              "      <td>14400</td>\n",
              "    </tr>\n",
              "    <tr>\n",
              "      <th>3</th>\n",
              "      <td>4</td>\n",
              "      <td>1</td>\n",
              "      <td>25</td>\n",
              "      <td>20800</td>\n",
              "    </tr>\n",
              "    <tr>\n",
              "      <th>4</th>\n",
              "      <td>5</td>\n",
              "      <td>1</td>\n",
              "      <td>29</td>\n",
              "      <td>6100</td>\n",
              "    </tr>\n",
              "  </tbody>\n",
              "</table>\n",
              "</div>\n",
              "      <button class=\"colab-df-convert\" onclick=\"convertToInteractive('df-4408ccfd-969d-40ec-9cf0-465322a53ed7')\"\n",
              "              title=\"Convert this dataframe to an interactive table.\"\n",
              "              style=\"display:none;\">\n",
              "\n",
              "  <svg xmlns=\"http://www.w3.org/2000/svg\" height=\"24px\"viewBox=\"0 0 24 24\"\n",
              "       width=\"24px\">\n",
              "    <path d=\"M0 0h24v24H0V0z\" fill=\"none\"/>\n",
              "    <path d=\"M18.56 5.44l.94 2.06.94-2.06 2.06-.94-2.06-.94-.94-2.06-.94 2.06-2.06.94zm-11 1L8.5 8.5l.94-2.06 2.06-.94-2.06-.94L8.5 2.5l-.94 2.06-2.06.94zm10 10l.94 2.06.94-2.06 2.06-.94-2.06-.94-.94-2.06-.94 2.06-2.06.94z\"/><path d=\"M17.41 7.96l-1.37-1.37c-.4-.4-.92-.59-1.43-.59-.52 0-1.04.2-1.43.59L10.3 9.45l-7.72 7.72c-.78.78-.78 2.05 0 2.83L4 21.41c.39.39.9.59 1.41.59.51 0 1.02-.2 1.41-.59l7.78-7.78 2.81-2.81c.8-.78.8-2.07 0-2.86zM5.41 20L4 18.59l7.72-7.72 1.47 1.35L5.41 20z\"/>\n",
              "  </svg>\n",
              "      </button>\n",
              "\n",
              "\n",
              "\n",
              "    <div id=\"df-82ebebc9-3aa0-424c-8b57-cf88171b647c\">\n",
              "      <button class=\"colab-df-quickchart\" onclick=\"quickchart('df-82ebebc9-3aa0-424c-8b57-cf88171b647c')\"\n",
              "              title=\"Suggest charts.\"\n",
              "              style=\"display:none;\">\n",
              "\n",
              "<svg xmlns=\"http://www.w3.org/2000/svg\" height=\"24px\"viewBox=\"0 0 24 24\"\n",
              "     width=\"24px\">\n",
              "    <g>\n",
              "        <path d=\"M19 3H5c-1.1 0-2 .9-2 2v14c0 1.1.9 2 2 2h14c1.1 0 2-.9 2-2V5c0-1.1-.9-2-2-2zM9 17H7v-7h2v7zm4 0h-2V7h2v10zm4 0h-2v-4h2v4z\"/>\n",
              "    </g>\n",
              "</svg>\n",
              "      </button>\n",
              "    </div>\n",
              "\n",
              "<style>\n",
              "  .colab-df-quickchart {\n",
              "    background-color: #E8F0FE;\n",
              "    border: none;\n",
              "    border-radius: 50%;\n",
              "    cursor: pointer;\n",
              "    display: none;\n",
              "    fill: #1967D2;\n",
              "    height: 32px;\n",
              "    padding: 0 0 0 0;\n",
              "    width: 32px;\n",
              "  }\n",
              "\n",
              "  .colab-df-quickchart:hover {\n",
              "    background-color: #E2EBFA;\n",
              "    box-shadow: 0px 1px 2px rgba(60, 64, 67, 0.3), 0px 1px 3px 1px rgba(60, 64, 67, 0.15);\n",
              "    fill: #174EA6;\n",
              "  }\n",
              "\n",
              "  [theme=dark] .colab-df-quickchart {\n",
              "    background-color: #3B4455;\n",
              "    fill: #D2E3FC;\n",
              "  }\n",
              "\n",
              "  [theme=dark] .colab-df-quickchart:hover {\n",
              "    background-color: #434B5C;\n",
              "    box-shadow: 0px 1px 3px 1px rgba(0, 0, 0, 0.15);\n",
              "    filter: drop-shadow(0px 1px 2px rgba(0, 0, 0, 0.3));\n",
              "    fill: #FFFFFF;\n",
              "  }\n",
              "</style>\n",
              "\n",
              "    <script>\n",
              "      async function quickchart(key) {\n",
              "        const containerElement = document.querySelector('#' + key);\n",
              "        const charts = await google.colab.kernel.invokeFunction(\n",
              "            'suggestCharts', [key], {});\n",
              "      }\n",
              "    </script>\n",
              "\n",
              "      <script>\n",
              "\n",
              "function displayQuickchartButton(domScope) {\n",
              "  let quickchartButtonEl =\n",
              "    domScope.querySelector('#df-82ebebc9-3aa0-424c-8b57-cf88171b647c button.colab-df-quickchart');\n",
              "  quickchartButtonEl.style.display =\n",
              "    google.colab.kernel.accessAllowed ? 'block' : 'none';\n",
              "}\n",
              "\n",
              "        displayQuickchartButton(document);\n",
              "      </script>\n",
              "      <style>\n",
              "    .colab-df-container {\n",
              "      display:flex;\n",
              "      flex-wrap:wrap;\n",
              "      gap: 12px;\n",
              "    }\n",
              "\n",
              "    .colab-df-convert {\n",
              "      background-color: #E8F0FE;\n",
              "      border: none;\n",
              "      border-radius: 50%;\n",
              "      cursor: pointer;\n",
              "      display: none;\n",
              "      fill: #1967D2;\n",
              "      height: 32px;\n",
              "      padding: 0 0 0 0;\n",
              "      width: 32px;\n",
              "    }\n",
              "\n",
              "    .colab-df-convert:hover {\n",
              "      background-color: #E2EBFA;\n",
              "      box-shadow: 0px 1px 2px rgba(60, 64, 67, 0.3), 0px 1px 3px 1px rgba(60, 64, 67, 0.15);\n",
              "      fill: #174EA6;\n",
              "    }\n",
              "\n",
              "    [theme=dark] .colab-df-convert {\n",
              "      background-color: #3B4455;\n",
              "      fill: #D2E3FC;\n",
              "    }\n",
              "\n",
              "    [theme=dark] .colab-df-convert:hover {\n",
              "      background-color: #434B5C;\n",
              "      box-shadow: 0px 1px 3px 1px rgba(0, 0, 0, 0.15);\n",
              "      filter: drop-shadow(0px 1px 2px rgba(0, 0, 0, 0.3));\n",
              "      fill: #FFFFFF;\n",
              "    }\n",
              "  </style>\n",
              "\n",
              "      <script>\n",
              "        const buttonEl =\n",
              "          document.querySelector('#df-4408ccfd-969d-40ec-9cf0-465322a53ed7 button.colab-df-convert');\n",
              "        buttonEl.style.display =\n",
              "          google.colab.kernel.accessAllowed ? 'block' : 'none';\n",
              "\n",
              "        async function convertToInteractive(key) {\n",
              "          const element = document.querySelector('#df-4408ccfd-969d-40ec-9cf0-465322a53ed7');\n",
              "          const dataTable =\n",
              "            await google.colab.kernel.invokeFunction('convertToInteractive',\n",
              "                                                     [key], {});\n",
              "          if (!dataTable) return;\n",
              "\n",
              "          const docLinkHtml = 'Like what you see? Visit the ' +\n",
              "            '<a target=\"_blank\" href=https://colab.research.google.com/notebooks/data_table.ipynb>data table notebook</a>'\n",
              "            + ' to learn more about interactive tables.';\n",
              "          element.innerHTML = '';\n",
              "          dataTable['output_type'] = 'display_data';\n",
              "          await google.colab.output.renderOutput(dataTable, element);\n",
              "          const docLink = document.createElement('div');\n",
              "          docLink.innerHTML = docLinkHtml;\n",
              "          element.appendChild(docLink);\n",
              "        }\n",
              "      </script>\n",
              "    </div>\n",
              "  </div>\n"
            ]
          },
          "metadata": {},
          "execution_count": 21
        }
      ],
      "source": [
        "df = pd.read_csv('drive/My Drive/causal_inference/trainees.csv')\n",
        "print(df.shape)\n",
        "df.info()\n",
        "df.head()"
      ]
    },
    {
      "cell_type": "code",
      "source": [
        "df.groupby('trainees')['earnings'].mean()"
      ],
      "metadata": {
        "colab": {
          "base_uri": "https://localhost:8080/"
        },
        "id": "ZP18aQzYVlIt",
        "outputId": "94d63ba4-dbce-482f-fa24-d876ee8453a8"
      },
      "execution_count": null,
      "outputs": [
        {
          "output_type": "execute_result",
          "data": {
            "text/plain": [
              "trainees\n",
              "0    20723.809524\n",
              "1    16426.315789\n",
              "Name: earnings, dtype: float64"
            ]
          },
          "metadata": {},
          "execution_count": 36
        }
      ]
    },
    {
      "cell_type": "code",
      "source": [
        "model_train = smf.ols('earnings ~ trainees', data = df).fit()\n",
        "model_train.summary().tables[1]"
      ],
      "metadata": {
        "colab": {
          "base_uri": "https://localhost:8080/",
          "height": 81
        },
        "id": "-foD66C-VFAi",
        "outputId": "65dae3be-8111-4ce1-cec5-63bf146ea2d8"
      },
      "execution_count": null,
      "outputs": [
        {
          "output_type": "execute_result",
          "data": {
            "text/plain": [
              "<class 'statsmodels.iolib.table.SimpleTable'>"
            ],
            "text/html": [
              "<table class=\"simpletable\">\n",
              "<tr>\n",
              "      <td></td>         <th>coef</th>     <th>std err</th>      <th>t</th>      <th>P>|t|</th>  <th>[0.025</th>    <th>0.975]</th>  \n",
              "</tr>\n",
              "<tr>\n",
              "  <th>Intercept</th> <td> 2.072e+04</td> <td> 2036.378</td> <td>   10.177</td> <td> 0.000</td> <td> 1.66e+04</td> <td> 2.48e+04</td>\n",
              "</tr>\n",
              "<tr>\n",
              "  <th>trainees</th>  <td>-4297.4937</td> <td> 2954.688</td> <td>   -1.454</td> <td> 0.154</td> <td>-1.03e+04</td> <td> 1683.959</td>\n",
              "</tr>\n",
              "</table>"
            ]
          },
          "metadata": {},
          "execution_count": 37
        }
      ]
    },
    {
      "cell_type": "code",
      "source": [
        "model_train = smf.ols('earnings ~ trainees + age', data = df).fit()\n",
        "model_train.summary().tables[1]"
      ],
      "metadata": {
        "colab": {
          "base_uri": "https://localhost:8080/",
          "height": 102
        },
        "id": "tjXJORpeYU1y",
        "outputId": "11d682ab-27db-473d-b69f-6c19355c6927"
      },
      "execution_count": null,
      "outputs": [
        {
          "output_type": "execute_result",
          "data": {
            "text/plain": [
              "<class 'statsmodels.iolib.table.SimpleTable'>"
            ],
            "text/html": [
              "<table class=\"simpletable\">\n",
              "<tr>\n",
              "      <td></td>         <th>coef</th>     <th>std err</th>      <th>t</th>      <th>P>|t|</th>  <th>[0.025</th>    <th>0.975]</th>  \n",
              "</tr>\n",
              "<tr>\n",
              "  <th>Intercept</th> <td>  626.9025</td> <td> 6447.463</td> <td>    0.097</td> <td> 0.923</td> <td>-1.24e+04</td> <td> 1.37e+04</td>\n",
              "</tr>\n",
              "<tr>\n",
              "  <th>trainees</th>  <td>-1540.9802</td> <td> 2774.066</td> <td>   -0.555</td> <td> 0.582</td> <td>-7161.772</td> <td> 4079.812</td>\n",
              "</tr>\n",
              "<tr>\n",
              "  <th>age</th>       <td>  608.9972</td> <td>  187.429</td> <td>    3.249</td> <td> 0.002</td> <td>  229.229</td> <td>  988.765</td>\n",
              "</tr>\n",
              "</table>"
            ]
          },
          "metadata": {},
          "execution_count": 38
        }
      ]
    },
    {
      "cell_type": "code",
      "source": [
        "sns.histplot(data=df, x='age', hue='trainees');\n",
        "print(df.groupby('trainees')['age'].mean())"
      ],
      "metadata": {
        "colab": {
          "base_uri": "https://localhost:8080/",
          "height": 547
        },
        "id": "arLg6_szSmKs",
        "outputId": "0ababbb8-319d-472c-d3d5-b95980800cde"
      },
      "execution_count": null,
      "outputs": [
        {
          "output_type": "stream",
          "name": "stdout",
          "text": [
            "trainees\n",
            "0    33.000000\n",
            "1    28.473684\n",
            "Name: age, dtype: float64\n"
          ]
        },
        {
          "output_type": "display_data",
          "data": {
            "text/plain": [
              "<Figure size 640x480 with 1 Axes>"
            ],
            "image/png": "[encoded data removed]"
          },
          "metadata": {}
        }
      ]
    },
    {
      "cell_type": "code",
      "source": [
        "unique_on_age = (df\n",
        "                 .query(\"trainees==0\")\n",
        "                 .drop_duplicates(\"age\"))\n",
        "\n",
        "matches = (df\n",
        "           .query(\"trainees==1\")\n",
        "           .merge(unique_on_age, on=\"age\", how=\"left\", suffixes=(\"_t_1\", \"_t_0\"))\n",
        "           .assign(t1_minuts_t0 = lambda d: d[\"earnings_t_1\"] - d[\"earnings_t_0\"]))\n",
        "\n",
        "matches.head(7)"
      ],
      "metadata": {
        "colab": {
          "base_uri": "https://localhost:8080/",
          "height": 269
        },
        "id": "rJOyYhK7bANC",
        "outputId": "087b165a-3304-4812-9b4c-3d6b4ed83d4c"
      },
      "execution_count": null,
      "outputs": [
        {
          "output_type": "execute_result",
          "data": {
            "text/plain": [
              "   unit_t_1  trainees_t_1  age  earnings_t_1  unit_t_0  trainees_t_0  \\\n",
              "0         1             1   28         17700        27             0   \n",
              "1         2             1   34         10200        34             0   \n",
              "2         3             1   29         14400        37             0   \n",
              "3         4             1   25         20800        35             0   \n",
              "4         5             1   29          6100        37             0   \n",
              "5         6             1   23         28600        40             0   \n",
              "6         7             1   33         21900        29             0   \n",
              "\n",
              "   earnings_t_0  t1_minuts_t0  \n",
              "0          8800          8900  \n",
              "1         24200        -14000  \n",
              "2          6200          8200  \n",
              "3         23300         -2500  \n",
              "4          6200          -100  \n",
              "5          9500         19100  \n",
              "6         15500          6400  "
            ],
            "text/html": [
              "\n",
              "\n",
              "  <div id=\"df-fa2d9fe8-eb7e-4f88-817e-89055b66ae0a\">\n",
              "    <div class=\"colab-df-container\">\n",
              "      <div>\n",
              "<style scoped>\n",
              "    .dataframe tbody tr th:only-of-type {\n",
              "        vertical-align: middle;\n",
              "    }\n",
              "\n",
              "    .dataframe tbody tr th {\n",
              "        vertical-align: top;\n",
              "    }\n",
              "\n",
              "    .dataframe thead th {\n",
              "        text-align: right;\n",
              "    }\n",
              "</style>\n",
              "<table border=\"1\" class=\"dataframe\">\n",
              "  <thead>\n",
              "    <tr style=\"text-align: right;\">\n",
              "      <th></th>\n",
              "      <th>unit_t_1</th>\n",
              "      <th>trainees_t_1</th>\n",
              "      <th>age</th>\n",
              "      <th>earnings_t_1</th>\n",
              "      <th>unit_t_0</th>\n",
              "      <th>trainees_t_0</th>\n",
              "      <th>earnings_t_0</th>\n",
              "      <th>t1_minuts_t0</th>\n",
              "    </tr>\n",
              "  </thead>\n",
              "  <tbody>\n",
              "    <tr>\n",
              "      <th>0</th>\n",
              "      <td>1</td>\n",
              "      <td>1</td>\n",
              "      <td>28</td>\n",
              "      <td>17700</td>\n",
              "      <td>27</td>\n",
              "      <td>0</td>\n",
              "      <td>8800</td>\n",
              "      <td>8900</td>\n",
              "    </tr>\n",
              "    <tr>\n",
              "      <th>1</th>\n",
              "      <td>2</td>\n",
              "      <td>1</td>\n",
              "      <td>34</td>\n",
              "      <td>10200</td>\n",
              "      <td>34</td>\n",
              "      <td>0</td>\n",
              "      <td>24200</td>\n",
              "      <td>-14000</td>\n",
              "    </tr>\n",
              "    <tr>\n",
              "      <th>2</th>\n",
              "      <td>3</td>\n",
              "      <td>1</td>\n",
              "      <td>29</td>\n",
              "      <td>14400</td>\n",
              "      <td>37</td>\n",
              "      <td>0</td>\n",
              "      <td>6200</td>\n",
              "      <td>8200</td>\n",
              "    </tr>\n",
              "    <tr>\n",
              "      <th>3</th>\n",
              "      <td>4</td>\n",
              "      <td>1</td>\n",
              "      <td>25</td>\n",
              "      <td>20800</td>\n",
              "      <td>35</td>\n",
              "      <td>0</td>\n",
              "      <td>23300</td>\n",
              "      <td>-2500</td>\n",
              "    </tr>\n",
              "    <tr>\n",
              "      <th>4</th>\n",
              "      <td>5</td>\n",
              "      <td>1</td>\n",
              "      <td>29</td>\n",
              "      <td>6100</td>\n",
              "      <td>37</td>\n",
              "      <td>0</td>\n",
              "      <td>6200</td>\n",
              "      <td>-100</td>\n",
              "    </tr>\n",
              "    <tr>\n",
              "      <th>5</th>\n",
              "      <td>6</td>\n",
              "      <td>1</td>\n",
              "      <td>23</td>\n",
              "      <td>28600</td>\n",
              "      <td>40</td>\n",
              "      <td>0</td>\n",
              "      <td>9500</td>\n",
              "      <td>19100</td>\n",
              "    </tr>\n",
              "    <tr>\n",
              "      <th>6</th>\n",
              "      <td>7</td>\n",
              "      <td>1</td>\n",
              "      <td>33</td>\n",
              "      <td>21900</td>\n",
              "      <td>29</td>\n",
              "      <td>0</td>\n",
              "      <td>15500</td>\n",
              "      <td>6400</td>\n",
              "    </tr>\n",
              "  </tbody>\n",
              "</table>\n",
              "</div>\n",
              "      <button class=\"colab-df-convert\" onclick=\"convertToInteractive('df-fa2d9fe8-eb7e-4f88-817e-89055b66ae0a')\"\n",
              "              title=\"Convert this dataframe to an interactive table.\"\n",
              "              style=\"display:none;\">\n",
              "\n",
              "  <svg xmlns=\"http://www.w3.org/2000/svg\" height=\"24px\"viewBox=\"0 0 24 24\"\n",
              "       width=\"24px\">\n",
              "    <path d=\"M0 0h24v24H0V0z\" fill=\"none\"/>\n",
              "    <path d=\"M18.56 5.44l.94 2.06.94-2.06 2.06-.94-2.06-.94-.94-2.06-.94 2.06-2.06.94zm-11 1L8.5 8.5l.94-2.06 2.06-.94-2.06-.94L8.5 2.5l-.94 2.06-2.06.94zm10 10l.94 2.06.94-2.06 2.06-.94-2.06-.94-.94-2.06-.94 2.06-2.06.94z\"/><path d=\"M17.41 7.96l-1.37-1.37c-.4-.4-.92-.59-1.43-.59-.52 0-1.04.2-1.43.59L10.3 9.45l-7.72 7.72c-.78.78-.78 2.05 0 2.83L4 21.41c.39.39.9.59 1.41.59.51 0 1.02-.2 1.41-.59l7.78-7.78 2.81-2.81c.8-.78.8-2.07 0-2.86zM5.41 20L4 18.59l7.72-7.72 1.47 1.35L5.41 20z\"/>\n",
              "  </svg>\n",
              "      </button>\n",
              "\n",
              "\n",
              "\n",
              "    <div id=\"df-df65a59d-4ec1-417d-9251-ef5a2701b493\">\n",
              "      <button class=\"colab-df-quickchart\" onclick=\"quickchart('df-df65a59d-4ec1-417d-9251-ef5a2701b493')\"\n",
              "              title=\"Suggest charts.\"\n",
              "              style=\"display:none;\">\n",
              "\n",
              "<svg xmlns=\"http://www.w3.org/2000/svg\" height=\"24px\"viewBox=\"0 0 24 24\"\n",
              "     width=\"24px\">\n",
              "    <g>\n",
              "        <path d=\"M19 3H5c-1.1 0-2 .9-2 2v14c0 1.1.9 2 2 2h14c1.1 0 2-.9 2-2V5c0-1.1-.9-2-2-2zM9 17H7v-7h2v7zm4 0h-2V7h2v10zm4 0h-2v-4h2v4z\"/>\n",
              "    </g>\n",
              "</svg>\n",
              "      </button>\n",
              "    </div>\n",
              "\n",
              "<style>\n",
              "  .colab-df-quickchart {\n",
              "    background-color: #E8F0FE;\n",
              "    border: none;\n",
              "    border-radius: 50%;\n",
              "    cursor: pointer;\n",
              "    display: none;\n",
              "    fill: #1967D2;\n",
              "    height: 32px;\n",
              "    padding: 0 0 0 0;\n",
              "    width: 32px;\n",
              "  }\n",
              "\n",
              "  .colab-df-quickchart:hover {\n",
              "    background-color: #E2EBFA;\n",
              "    box-shadow: 0px 1px 2px rgba(60, 64, 67, 0.3), 0px 1px 3px 1px rgba(60, 64, 67, 0.15);\n",
              "    fill: #174EA6;\n",
              "  }\n",
              "\n",
              "  [theme=dark] .colab-df-quickchart {\n",
              "    background-color: #3B4455;\n",
              "    fill: #D2E3FC;\n",
              "  }\n",
              "\n",
              "  [theme=dark] .colab-df-quickchart:hover {\n",
              "    background-color: #434B5C;\n",
              "    box-shadow: 0px 1px 3px 1px rgba(0, 0, 0, 0.15);\n",
              "    filter: drop-shadow(0px 1px 2px rgba(0, 0, 0, 0.3));\n",
              "    fill: #FFFFFF;\n",
              "  }\n",
              "</style>\n",
              "\n",
              "    <script>\n",
              "      async function quickchart(key) {\n",
              "        const containerElement = document.querySelector('#' + key);\n",
              "        const charts = await google.colab.kernel.invokeFunction(\n",
              "            'suggestCharts', [key], {});\n",
              "      }\n",
              "    </script>\n",
              "\n",
              "      <script>\n",
              "\n",
              "function displayQuickchartButton(domScope) {\n",
              "  let quickchartButtonEl =\n",
              "    domScope.querySelector('#df-df65a59d-4ec1-417d-9251-ef5a2701b493 button.colab-df-quickchart');\n",
              "  quickchartButtonEl.style.display =\n",
              "    google.colab.kernel.accessAllowed ? 'block' : 'none';\n",
              "}\n",
              "\n",
              "        displayQuickchartButton(document);\n",
              "      </script>\n",
              "      <style>\n",
              "    .colab-df-container {\n",
              "      display:flex;\n",
              "      flex-wrap:wrap;\n",
              "      gap: 12px;\n",
              "    }\n",
              "\n",
              "    .colab-df-convert {\n",
              "      background-color: #E8F0FE;\n",
              "      border: none;\n",
              "      border-radius: 50%;\n",
              "      cursor: pointer;\n",
              "      display: none;\n",
              "      fill: #1967D2;\n",
              "      height: 32px;\n",
              "      padding: 0 0 0 0;\n",
              "      width: 32px;\n",
              "    }\n",
              "\n",
              "    .colab-df-convert:hover {\n",
              "      background-color: #E2EBFA;\n",
              "      box-shadow: 0px 1px 2px rgba(60, 64, 67, 0.3), 0px 1px 3px 1px rgba(60, 64, 67, 0.15);\n",
              "      fill: #174EA6;\n",
              "    }\n",
              "\n",
              "    [theme=dark] .colab-df-convert {\n",
              "      background-color: #3B4455;\n",
              "      fill: #D2E3FC;\n",
              "    }\n",
              "\n",
              "    [theme=dark] .colab-df-convert:hover {\n",
              "      background-color: #434B5C;\n",
              "      box-shadow: 0px 1px 3px 1px rgba(0, 0, 0, 0.15);\n",
              "      filter: drop-shadow(0px 1px 2px rgba(0, 0, 0, 0.3));\n",
              "      fill: #FFFFFF;\n",
              "    }\n",
              "  </style>\n",
              "\n",
              "      <script>\n",
              "        const buttonEl =\n",
              "          document.querySelector('#df-fa2d9fe8-eb7e-4f88-817e-89055b66ae0a button.colab-df-convert');\n",
              "        buttonEl.style.display =\n",
              "          google.colab.kernel.accessAllowed ? 'block' : 'none';\n",
              "\n",
              "        async function convertToInteractive(key) {\n",
              "          const element = document.querySelector('#df-fa2d9fe8-eb7e-4f88-817e-89055b66ae0a');\n",
              "          const dataTable =\n",
              "            await google.colab.kernel.invokeFunction('convertToInteractive',\n",
              "                                                     [key], {});\n",
              "          if (!dataTable) return;\n",
              "\n",
              "          const docLinkHtml = 'Like what you see? Visit the ' +\n",
              "            '<a target=\"_blank\" href=https://colab.research.google.com/notebooks/data_table.ipynb>data table notebook</a>'\n",
              "            + ' to learn more about interactive tables.';\n",
              "          element.innerHTML = '';\n",
              "          dataTable['output_type'] = 'display_data';\n",
              "          await google.colab.output.renderOutput(dataTable, element);\n",
              "          const docLink = document.createElement('div');\n",
              "          docLink.innerHTML = docLinkHtml;\n",
              "          element.appendChild(docLink);\n",
              "        }\n",
              "      </script>\n",
              "    </div>\n",
              "  </div>\n"
            ]
          },
          "metadata": {},
          "execution_count": 40
        }
      ]
    },
    {
      "cell_type": "code",
      "source": [
        "matches[\"t1_minuts_t0\"].mean()"
      ],
      "metadata": {
        "id": "WW3kgUWCcevZ",
        "outputId": "d3fd5adb-0761-447e-8c33-09a966a0d9d4",
        "colab": {
          "base_uri": "https://localhost:8080/"
        }
      },
      "execution_count": null,
      "outputs": [
        {
          "output_type": "execute_result",
          "data": {
            "text/plain": [
              "2457.8947368421054"
            ]
          },
          "metadata": {},
          "execution_count": 41
        }
      ]
    },
    {
      "cell_type": "markdown",
      "metadata": {
        "id": "yKPIjHB8ezlI"
      },
      "source": [
        "<hr style=\"border-width:2px;border-color:#75DFC1\">\n",
        "<h1 style = \"text-align:center\" > DOWHY library for causal inference ! </h1>\n",
        "<hr style=\"border-width:2px;border-color:#75DFC1\">"
      ]
    },
    {
      "cell_type": "code",
      "execution_count": 3,
      "metadata": {
        "id": "0pOwuQchShv9"
      },
      "outputs": [],
      "source": [
        "import pandas as pd\n",
        "import numpy as np\n",
        "import matplotlib.pyplot as plt\n",
        "import dowhy"
      ]
    },
    {
      "cell_type": "code",
      "execution_count": 4,
      "metadata": {
        "id": "gt5uSvUnGI5c"
      },
      "outputs": [],
      "source": [
        "\n",
        "df = pd.read_csv('drive/My Drive/causal_inference/wage.csv')"
      ]
    },
    {
      "cell_type": "code",
      "execution_count": 5,
      "metadata": {
        "colab": {
          "base_uri": "https://localhost:8080/",
          "height": 644
        },
        "id": "HDBk2jRTGdT8",
        "outputId": "413f7b00-8854-4044-eab0-3d8a085f0e21"
      },
      "outputs": [
        {
          "output_type": "stream",
          "name": "stdout",
          "text": [
            "(935, 16)\n",
            "<class 'pandas.core.frame.DataFrame'>\n",
            "RangeIndex: 935 entries, 0 to 934\n",
            "Data columns (total 16 columns):\n",
            " #   Column   Non-Null Count  Dtype  \n",
            "---  ------   --------------  -----  \n",
            " 0   wage     935 non-null    int64  \n",
            " 1   hours    935 non-null    int64  \n",
            " 2   lhwage   935 non-null    float64\n",
            " 3   IQ       935 non-null    int64  \n",
            " 4   educ     935 non-null    int64  \n",
            " 5   exper    935 non-null    int64  \n",
            " 6   tenure   935 non-null    int64  \n",
            " 7   age      935 non-null    int64  \n",
            " 8   married  935 non-null    int64  \n",
            " 9   black    935 non-null    int64  \n",
            " 10  south    935 non-null    int64  \n",
            " 11  urban    935 non-null    int64  \n",
            " 12  sibs     935 non-null    int64  \n",
            " 13  brthord  852 non-null    float64\n",
            " 14  meduc    857 non-null    float64\n",
            " 15  feduc    741 non-null    float64\n",
            "dtypes: float64(4), int64(12)\n",
            "memory usage: 117.0 KB\n"
          ]
        },
        {
          "output_type": "execute_result",
          "data": {
            "text/plain": [
              "   wage  hours    lhwage   IQ  educ  exper  tenure  age  married  black  \\\n",
              "0   769     40  2.956212   93    12     11       2   31        1      0   \n",
              "1   808     50  2.782539  119    18     11      16   37        1      0   \n",
              "2   825     40  3.026504  108    14     11       9   33        1      0   \n",
              "3   650     40  2.788093   96    12     13       7   32        1      0   \n",
              "4   562     40  2.642622   74    11     14       5   34        1      0   \n",
              "\n",
              "   south  urban  sibs  brthord  meduc  feduc  \n",
              "0      0      1     1      2.0    8.0    8.0  \n",
              "1      0      1     1      NaN   14.0   14.0  \n",
              "2      0      1     1      2.0   14.0   14.0  \n",
              "3      0      1     4      3.0   12.0   12.0  \n",
              "4      0      1    10      6.0    6.0   11.0  "
            ],
            "text/html": [
              "\n",
              "\n",
              "  <div id=\"df-f92fd7bd-4d2b-48dd-8b3f-6333b6be65eb\">\n",
              "    <div class=\"colab-df-container\">\n",
              "      <div>\n",
              "<style scoped>\n",
              "    .dataframe tbody tr th:only-of-type {\n",
              "        vertical-align: middle;\n",
              "    }\n",
              "\n",
              "    .dataframe tbody tr th {\n",
              "        vertical-align: top;\n",
              "    }\n",
              "\n",
              "    .dataframe thead th {\n",
              "        text-align: right;\n",
              "    }\n",
              "</style>\n",
              "<table border=\"1\" class=\"dataframe\">\n",
              "  <thead>\n",
              "    <tr style=\"text-align: right;\">\n",
              "      <th></th>\n",
              "      <th>wage</th>\n",
              "      <th>hours</th>\n",
              "      <th>lhwage</th>\n",
              "      <th>IQ</th>\n",
              "      <th>educ</th>\n",
              "      <th>exper</th>\n",
              "      <th>tenure</th>\n",
              "      <th>age</th>\n",
              "      <th>married</th>\n",
              "      <th>black</th>\n",
              "      <th>south</th>\n",
              "      <th>urban</th>\n",
              "      <th>sibs</th>\n",
              "      <th>brthord</th>\n",
              "      <th>meduc</th>\n",
              "      <th>feduc</th>\n",
              "    </tr>\n",
              "  </thead>\n",
              "  <tbody>\n",
              "    <tr>\n",
              "      <th>0</th>\n",
              "      <td>769</td>\n",
              "      <td>40</td>\n",
              "      <td>2.956212</td>\n",
              "      <td>93</td>\n",
              "      <td>12</td>\n",
              "      <td>11</td>\n",
              "      <td>2</td>\n",
              "      <td>31</td>\n",
              "      <td>1</td>\n",
              "      <td>0</td>\n",
              "      <td>0</td>\n",
              "      <td>1</td>\n",
              "      <td>1</td>\n",
              "      <td>2.0</td>\n",
              "      <td>8.0</td>\n",
              "      <td>8.0</td>\n",
              "    </tr>\n",
              "    <tr>\n",
              "      <th>1</th>\n",
              "      <td>808</td>\n",
              "      <td>50</td>\n",
              "      <td>2.782539</td>\n",
              "      <td>119</td>\n",
              "      <td>18</td>\n",
              "      <td>11</td>\n",
              "      <td>16</td>\n",
              "      <td>37</td>\n",
              "      <td>1</td>\n",
              "      <td>0</td>\n",
              "      <td>0</td>\n",
              "      <td>1</td>\n",
              "      <td>1</td>\n",
              "      <td>NaN</td>\n",
              "      <td>14.0</td>\n",
              "      <td>14.0</td>\n",
              "    </tr>\n",
              "    <tr>\n",
              "      <th>2</th>\n",
              "      <td>825</td>\n",
              "      <td>40</td>\n",
              "      <td>3.026504</td>\n",
              "      <td>108</td>\n",
              "      <td>14</td>\n",
              "      <td>11</td>\n",
              "      <td>9</td>\n",
              "      <td>33</td>\n",
              "      <td>1</td>\n",
              "      <td>0</td>\n",
              "      <td>0</td>\n",
              "      <td>1</td>\n",
              "      <td>1</td>\n",
              "      <td>2.0</td>\n",
              "      <td>14.0</td>\n",
              "      <td>14.0</td>\n",
              "    </tr>\n",
              "    <tr>\n",
              "      <th>3</th>\n",
              "      <td>650</td>\n",
              "      <td>40</td>\n",
              "      <td>2.788093</td>\n",
              "      <td>96</td>\n",
              "      <td>12</td>\n",
              "      <td>13</td>\n",
              "      <td>7</td>\n",
              "      <td>32</td>\n",
              "      <td>1</td>\n",
              "      <td>0</td>\n",
              "      <td>0</td>\n",
              "      <td>1</td>\n",
              "      <td>4</td>\n",
              "      <td>3.0</td>\n",
              "      <td>12.0</td>\n",
              "      <td>12.0</td>\n",
              "    </tr>\n",
              "    <tr>\n",
              "      <th>4</th>\n",
              "      <td>562</td>\n",
              "      <td>40</td>\n",
              "      <td>2.642622</td>\n",
              "      <td>74</td>\n",
              "      <td>11</td>\n",
              "      <td>14</td>\n",
              "      <td>5</td>\n",
              "      <td>34</td>\n",
              "      <td>1</td>\n",
              "      <td>0</td>\n",
              "      <td>0</td>\n",
              "      <td>1</td>\n",
              "      <td>10</td>\n",
              "      <td>6.0</td>\n",
              "      <td>6.0</td>\n",
              "      <td>11.0</td>\n",
              "    </tr>\n",
              "  </tbody>\n",
              "</table>\n",
              "</div>\n",
              "      <button class=\"colab-df-convert\" onclick=\"convertToInteractive('df-f92fd7bd-4d2b-48dd-8b3f-6333b6be65eb')\"\n",
              "              title=\"Convert this dataframe to an interactive table.\"\n",
              "              style=\"display:none;\">\n",
              "\n",
              "  <svg xmlns=\"http://www.w3.org/2000/svg\" height=\"24px\"viewBox=\"0 0 24 24\"\n",
              "       width=\"24px\">\n",
              "    <path d=\"M0 0h24v24H0V0z\" fill=\"none\"/>\n",
              "    <path d=\"M18.56 5.44l.94 2.06.94-2.06 2.06-.94-2.06-.94-.94-2.06-.94 2.06-2.06.94zm-11 1L8.5 8.5l.94-2.06 2.06-.94-2.06-.94L8.5 2.5l-.94 2.06-2.06.94zm10 10l.94 2.06.94-2.06 2.06-.94-2.06-.94-.94-2.06-.94 2.06-2.06.94z\"/><path d=\"M17.41 7.96l-1.37-1.37c-.4-.4-.92-.59-1.43-.59-.52 0-1.04.2-1.43.59L10.3 9.45l-7.72 7.72c-.78.78-.78 2.05 0 2.83L4 21.41c.39.39.9.59 1.41.59.51 0 1.02-.2 1.41-.59l7.78-7.78 2.81-2.81c.8-.78.8-2.07 0-2.86zM5.41 20L4 18.59l7.72-7.72 1.47 1.35L5.41 20z\"/>\n",
              "  </svg>\n",
              "      </button>\n",
              "\n",
              "\n",
              "\n",
              "    <div id=\"df-388016f7-a169-4cf6-b4e2-b79aad9d6306\">\n",
              "      <button class=\"colab-df-quickchart\" onclick=\"quickchart('df-388016f7-a169-4cf6-b4e2-b79aad9d6306')\"\n",
              "              title=\"Suggest charts.\"\n",
              "              style=\"display:none;\">\n",
              "\n",
              "<svg xmlns=\"http://www.w3.org/2000/svg\" height=\"24px\"viewBox=\"0 0 24 24\"\n",
              "     width=\"24px\">\n",
              "    <g>\n",
              "        <path d=\"M19 3H5c-1.1 0-2 .9-2 2v14c0 1.1.9 2 2 2h14c1.1 0 2-.9 2-2V5c0-1.1-.9-2-2-2zM9 17H7v-7h2v7zm4 0h-2V7h2v10zm4 0h-2v-4h2v4z\"/>\n",
              "    </g>\n",
              "</svg>\n",
              "      </button>\n",
              "    </div>\n",
              "\n",
              "<style>\n",
              "  .colab-df-quickchart {\n",
              "    background-color: #E8F0FE;\n",
              "    border: none;\n",
              "    border-radius: 50%;\n",
              "    cursor: pointer;\n",
              "    display: none;\n",
              "    fill: #1967D2;\n",
              "    height: 32px;\n",
              "    padding: 0 0 0 0;\n",
              "    width: 32px;\n",
              "  }\n",
              "\n",
              "  .colab-df-quickchart:hover {\n",
              "    background-color: #E2EBFA;\n",
              "    box-shadow: 0px 1px 2px rgba(60, 64, 67, 0.3), 0px 1px 3px 1px rgba(60, 64, 67, 0.15);\n",
              "    fill: #174EA6;\n",
              "  }\n",
              "\n",
              "  [theme=dark] .colab-df-quickchart {\n",
              "    background-color: #3B4455;\n",
              "    fill: #D2E3FC;\n",
              "  }\n",
              "\n",
              "  [theme=dark] .colab-df-quickchart:hover {\n",
              "    background-color: #434B5C;\n",
              "    box-shadow: 0px 1px 3px 1px rgba(0, 0, 0, 0.15);\n",
              "    filter: drop-shadow(0px 1px 2px rgba(0, 0, 0, 0.3));\n",
              "    fill: #FFFFFF;\n",
              "  }\n",
              "</style>\n",
              "\n",
              "    <script>\n",
              "      async function quickchart(key) {\n",
              "        const containerElement = document.querySelector('#' + key);\n",
              "        const charts = await google.colab.kernel.invokeFunction(\n",
              "            'suggestCharts', [key], {});\n",
              "      }\n",
              "    </script>\n",
              "\n",
              "      <script>\n",
              "\n",
              "function displayQuickchartButton(domScope) {\n",
              "  let quickchartButtonEl =\n",
              "    domScope.querySelector('#df-388016f7-a169-4cf6-b4e2-b79aad9d6306 button.colab-df-quickchart');\n",
              "  quickchartButtonEl.style.display =\n",
              "    google.colab.kernel.accessAllowed ? 'block' : 'none';\n",
              "}\n",
              "\n",
              "        displayQuickchartButton(document);\n",
              "      </script>\n",
              "      <style>\n",
              "    .colab-df-container {\n",
              "      display:flex;\n",
              "      flex-wrap:wrap;\n",
              "      gap: 12px;\n",
              "    }\n",
              "\n",
              "    .colab-df-convert {\n",
              "      background-color: #E8F0FE;\n",
              "      border: none;\n",
              "      border-radius: 50%;\n",
              "      cursor: pointer;\n",
              "      display: none;\n",
              "      fill: #1967D2;\n",
              "      height: 32px;\n",
              "      padding: 0 0 0 0;\n",
              "      width: 32px;\n",
              "    }\n",
              "\n",
              "    .colab-df-convert:hover {\n",
              "      background-color: #E2EBFA;\n",
              "      box-shadow: 0px 1px 2px rgba(60, 64, 67, 0.3), 0px 1px 3px 1px rgba(60, 64, 67, 0.15);\n",
              "      fill: #174EA6;\n",
              "    }\n",
              "\n",
              "    [theme=dark] .colab-df-convert {\n",
              "      background-color: #3B4455;\n",
              "      fill: #D2E3FC;\n",
              "    }\n",
              "\n",
              "    [theme=dark] .colab-df-convert:hover {\n",
              "      background-color: #434B5C;\n",
              "      box-shadow: 0px 1px 3px 1px rgba(0, 0, 0, 0.15);\n",
              "      filter: drop-shadow(0px 1px 2px rgba(0, 0, 0, 0.3));\n",
              "      fill: #FFFFFF;\n",
              "    }\n",
              "  </style>\n",
              "\n",
              "      <script>\n",
              "        const buttonEl =\n",
              "          document.querySelector('#df-f92fd7bd-4d2b-48dd-8b3f-6333b6be65eb button.colab-df-convert');\n",
              "        buttonEl.style.display =\n",
              "          google.colab.kernel.accessAllowed ? 'block' : 'none';\n",
              "\n",
              "        async function convertToInteractive(key) {\n",
              "          const element = document.querySelector('#df-f92fd7bd-4d2b-48dd-8b3f-6333b6be65eb');\n",
              "          const dataTable =\n",
              "            await google.colab.kernel.invokeFunction('convertToInteractive',\n",
              "                                                     [key], {});\n",
              "          if (!dataTable) return;\n",
              "\n",
              "          const docLinkHtml = 'Like what you see? Visit the ' +\n",
              "            '<a target=\"_blank\" href=https://colab.research.google.com/notebooks/data_table.ipynb>data table notebook</a>'\n",
              "            + ' to learn more about interactive tables.';\n",
              "          element.innerHTML = '';\n",
              "          dataTable['output_type'] = 'display_data';\n",
              "          await google.colab.output.renderOutput(dataTable, element);\n",
              "          const docLink = document.createElement('div');\n",
              "          docLink.innerHTML = docLinkHtml;\n",
              "          element.appendChild(docLink);\n",
              "        }\n",
              "      </script>\n",
              "    </div>\n",
              "  </div>\n"
            ]
          },
          "metadata": {},
          "execution_count": 5
        }
      ],
      "source": [
        "print(df.shape)\n",
        "df.info()\n",
        "df.head()"
      ]
    },
    {
      "cell_type": "code",
      "execution_count": null,
      "metadata": {
        "id": "OSAOPN6SFRHK"
      },
      "outputs": [],
      "source": [
        "cols_to_drop = ['lhwage', 'tenure', 'sibs', 'brthord']\n",
        "df = df.drop(cols_to_drop, axis = 1)"
      ]
    },
    {
      "cell_type": "code",
      "execution_count": null,
      "metadata": {
        "colab": {
          "base_uri": "https://localhost:8080/"
        },
        "id": "joWxEa8JFXHb",
        "outputId": "7f7fb4f1-180c-423f-dd7c-b1174552bbab"
      },
      "outputs": [
        {
          "output_type": "execute_result",
          "data": {
            "text/plain": [
              "Index(['wage', 'hours', 'IQ', 'educ', 'exper', 'age', 'married', 'black',\n",
              "       'south', 'urban', 'meduc', 'feduc'],\n",
              "      dtype='object')"
            ]
          },
          "metadata": {},
          "execution_count": 8
        }
      ],
      "source": [
        "df.columns"
      ]
    },
    {
      "cell_type": "code",
      "execution_count": null,
      "metadata": {
        "colab": {
          "base_uri": "https://localhost:8080/"
        },
        "id": "ReSCnd7OHX19",
        "outputId": "0b46f8ee-4e2a-4158-f88b-2fd59a75bae1"
      },
      "outputs": [
        {
          "data": {
            "text/plain": [
              "12    393\n",
              "16    150\n",
              "13     85\n",
              "14     77\n",
              "18     57\n",
              "15     45\n",
              "11     43\n",
              "17     40\n",
              "10     35\n",
              "9      10\n",
              "Name: educ, dtype: int64"
            ]
          },
          "execution_count": 7,
          "metadata": {},
          "output_type": "execute_result"
        }
      ],
      "source": [
        "df.educ.value_counts()"
      ]
    },
    {
      "cell_type": "code",
      "execution_count": null,
      "metadata": {
        "colab": {
          "base_uri": "https://localhost:8080/",
          "height": 430
        },
        "id": "CWEUThEmHxp4",
        "outputId": "2217b2e6-f593-4df2-de3d-0e0f5c4c5eb0"
      },
      "outputs": [
        {
          "data": {
            "image/png": "[encoded data removed]",
            "text/plain": [
              "<Figure size 640x480 with 1 Axes>"
            ]
          },
          "metadata": {},
          "output_type": "display_data"
        }
      ],
      "source": [
        "plt.hist(df.educ);"
      ]
    },
    {
      "cell_type": "code",
      "execution_count": null,
      "metadata": {
        "colab": {
          "base_uri": "https://localhost:8080/",
          "height": 430
        },
        "id": "njSY4fcKRoMD",
        "outputId": "bc711fe4-dd05-4f4e-c075-6c19d40c75d7"
      },
      "outputs": [
        {
          "data": {
            "image/png": "[encoded data removed]",
            "text/plain": [
              "<Figure size 640x480 with 1 Axes>"
            ]
          },
          "metadata": {},
          "output_type": "display_data"
        }
      ],
      "source": [
        "plt.hist(df.wage, bins = 30);"
      ]
    },
    {
      "cell_type": "code",
      "execution_count": null,
      "metadata": {
        "colab": {
          "base_uri": "https://localhost:8080/"
        },
        "id": "Gf7ajGXwLEz1",
        "outputId": "4103184a-f515-4623-9028-01ed534fb39d"
      },
      "outputs": [
        {
          "data": {
            "text/plain": [
              "Index(['wage', 'hours', 'IQ', 'educ', 'exper', 'age', 'married', 'black',\n",
              "       'south', 'urban', 'meduc', 'feduc'],\n",
              "      dtype='object')"
            ]
          },
          "execution_count": 14,
          "metadata": {},
          "output_type": "execute_result"
        }
      ],
      "source": [
        "df.columns"
      ]
    },
    {
      "cell_type": "code",
      "source": [
        "causal_graph = \"\"\"digraph {\n",
        "IQ -> {educ, wage};\n",
        "educ -> wage;\n",
        "}\"\"\""
      ],
      "metadata": {
        "id": "GmhH7AynYmR4"
      },
      "execution_count": null,
      "outputs": []
    },
    {
      "cell_type": "code",
      "execution_count": null,
      "metadata": {
        "colab": {
          "base_uri": "https://localhost:8080/",
          "height": 785
        },
        "id": "eRRkuUI6J3BC",
        "outputId": "852e6c9b-be12-456f-dce3-bad59632edaa"
      },
      "outputs": [
        {
          "output_type": "display_data",
          "data": {
            "image/png": "[encoded data removed]",
            "text/plain": [
              "<IPython.core.display.Image object>"
            ]
          },
          "metadata": {}
        }
      ],
      "source": [
        "model= dowhy.CausalModel(\n",
        "        data = df,\n",
        "        graph=causal_graph.replace(\"\\n\", \" \"),\n",
        "        treatment=\"educ\",\n",
        "        outcome='wage')\n",
        "model.view_model()\n",
        "from IPython.display import Image, display\n",
        "display(Image(filename=\"causal_model.png\"))"
      ]
    },
    {
      "cell_type": "code",
      "execution_count": null,
      "metadata": {
        "colab": {
          "base_uri": "https://localhost:8080/"
        },
        "id": "CpGAwFLdP0p7",
        "outputId": "6c8e2017-de88-400b-bd94-b78d8787b028"
      },
      "outputs": [
        {
          "output_type": "stream",
          "name": "stdout",
          "text": [
            "Estimand type: EstimandType.NONPARAMETRIC_ATE\n",
            "\n",
            "### Estimand : 1\n",
            "Estimand name: backdoor\n",
            "Estimand expression:\n",
            "   d               \n",
            "───────(E[wage|IQ])\n",
            "d[educ]            \n",
            "Estimand assumption 1, Unconfoundedness: If U→{educ} and U→wage then P(wage|educ,IQ,U) = P(wage|educ,IQ)\n",
            "\n",
            "### Estimand : 2\n",
            "Estimand name: iv\n",
            "No such variable(s) found!\n",
            "\n",
            "### Estimand : 3\n",
            "Estimand name: frontdoor\n",
            "No such variable(s) found!\n",
            "\n"
          ]
        }
      ],
      "source": [
        "identified_estimand = model.identify_effect(proceed_when_unidentifiable=True)\n",
        "print(identified_estimand)"
      ]
    },
    {
      "cell_type": "code",
      "execution_count": null,
      "metadata": {
        "colab": {
          "base_uri": "https://localhost:8080/"
        },
        "id": "JEpw1qgwQC3p",
        "outputId": "c3141e7f-c402-49d3-910c-c1593781515c"
      },
      "outputs": [
        {
          "output_type": "stream",
          "name": "stdout",
          "text": [
            "*** Causal Estimate ***\n",
            "\n",
            "## Identified estimand\n",
            "Estimand type: EstimandType.NONPARAMETRIC_ATE\n",
            "\n",
            "### Estimand : 1\n",
            "Estimand name: backdoor\n",
            "Estimand expression:\n",
            "   d               \n",
            "───────(E[wage|IQ])\n",
            "d[educ]            \n",
            "Estimand assumption 1, Unconfoundedness: If U→{educ} and U→wage then P(wage|educ,IQ,U) = P(wage|educ,IQ)\n",
            "\n",
            "## Realized estimand\n",
            "b: wage~educ+IQ\n",
            "Target units: ate\n",
            "\n",
            "## Estimate\n",
            "Mean value: 42.057618716449156\n",
            "\n"
          ]
        }
      ],
      "source": [
        "# Step 3: Estimate\n",
        "#Choose the first estimand\n",
        "estimate = model.estimate_effect(identified_estimand,\n",
        "        method_name=\"backdoor.linear_regression\", test_significance=True)\n",
        "\n",
        "print(estimate)"
      ]
    },
    {
      "cell_type": "markdown",
      "source": [
        "Une fois produite notre estimation nous devons tester sa robustesse. DoWhy propose de d'utiliser une méthode \"placebo_treatment_refuter\". Cette méthode consiste à créer plusieurs nouveaux datasets à partir de notre dataset d'origine et à remplacer la variable traitement (pour nous la variable 'educ') par une nouvelle variable randomisée. Nous nous attendons ainsi que l'effet de la variable randomisée sur la cible soit nul."
      ],
      "metadata": {
        "id": "O2BcEbWM06kD"
      }
    },
    {
      "cell_type": "code",
      "execution_count": null,
      "metadata": {
        "colab": {
          "base_uri": "https://localhost:8080/"
        },
        "id": "eznHfrOdaTEZ",
        "outputId": "3da2a0f5-4c40-486c-f290-246f77ee033f"
      },
      "outputs": [
        {
          "output_type": "stream",
          "name": "stdout",
          "text": [
            "Refute: Use a Placebo Treatment\n",
            "Estimated effect:42.057618716449156\n",
            "New effect:-0.26337750245551095\n",
            "p value:0.98\n",
            "\n"
          ]
        }
      ],
      "source": [
        "# Refute placebo\n",
        "res_placebo=model.refute_estimate(identified_estimand, estimate,\n",
        "        method_name=\"placebo_treatment_refuter\", placebo_type=\"permute\")\n",
        "print(res_placebo)"
      ]
    },
    {
      "cell_type": "markdown",
      "source": [
        "Dans le réfutateur placebo, nous simulons plusieurs ensembles de données dans lesquels le traitement est un placebo, ce qui signifie que nous savons que l'effet causal réel est nul. Ensuite, nous appliquons l'estimateur donné à tous ces ensembles de données et enregistrons les estimations obtenues. Si l'estimateur est précis, toutes ces estimations obtenues devraient être nulles (ou plus précisément, avoir une distribution étroite centrée autour de zéro). En d'autres termes, le réfutateur placebo teste la méthode de l'estimateur, et non l'estimation obtenue.\n",
        "\n",
        "Ensuite, le test statistique vérifie si cela est vrai en posant la question \"quelle est la probabilité que zéro fasse partie de cette distribution simulée d'estimations ?\"."
      ],
      "metadata": {
        "id": "uQubJPM8jFRZ"
      }
    },
    {
      "cell_type": "code",
      "source": [
        "# Step 4 : Refute\n",
        "refute_results=model.refute_estimate(identified_estimand, estimate,\n",
        "        method_name=\"random_common_cause\")\n",
        "print(refute_results)"
      ],
      "metadata": {
        "colab": {
          "base_uri": "https://localhost:8080/"
        },
        "id": "sDgOTrkdW66R",
        "outputId": "ca2f9150-2a46-452a-b20a-2871c90f2b1b"
      },
      "execution_count": null,
      "outputs": [
        {
          "output_type": "stream",
          "name": "stdout",
          "text": [
            "Refute: Add a random common cause\n",
            "Estimated effect:42.057618716449156\n",
            "New effect:42.03883513069286\n",
            "p value:0.9\n",
            "\n"
          ]
        }
      ]
    },
    {
      "cell_type": "markdown",
      "source": [
        "Nous repetons les mêmes étapes sur un modèle causal plus complexe."
      ],
      "metadata": {
        "id": "pZOxsDbe2IuS"
      }
    },
    {
      "cell_type": "code",
      "source": [
        "import pygraphviz\n",
        "# encodage des relations causales dans un diagrame causale\n",
        "causal_graph = \"\"\"digraph {\n",
        "U->{IQ};\n",
        "U2->{south, feduc, meduc};\n",
        "south -> {meduc, feduc, wage, educ}\n",
        "meduc -> educ;\n",
        "feduc -> educ;\n",
        "hours -> wage;\n",
        "age -> {educ, wage};\n",
        "IQ -> {educ, wage};\n",
        "educ -> wage;\n",
        "}\"\"\""
      ],
      "metadata": {
        "id": "FY00Ni6_2fMj"
      },
      "execution_count": 8,
      "outputs": []
    },
    {
      "cell_type": "code",
      "source": [
        "model_com= dowhy.CausalModel(\n",
        "        data = df,\n",
        "        graph=causal_graph.replace(\"\\n\", \" \"),\n",
        "        treatment=\"educ\",\n",
        "        outcome='wage')\n",
        "model_com.view_model()\n",
        "from IPython.display import Image, display\n",
        "display(Image(filename=\"causal_model.png\"))"
      ],
      "metadata": {
        "colab": {
          "base_uri": "https://localhost:8080/",
          "height": 1000
        },
        "id": "OYxrAlNT2tGJ",
        "outputId": "63183dc4-386b-4c56-bfb1-17f3742ffdf3"
      },
      "execution_count": 9,
      "outputs": [
        {
          "output_type": "stream",
          "name": "stderr",
          "text": [
            "WARNING:dowhy.causal_model:The graph defines 10 variables. 8 were found in the dataset and will be analyzed as observed variables. 2 were not found in the dataset and will be analyzed as unobserved variables. The observed variables are: '['IQ', 'age', 'educ', 'feduc', 'hours', 'meduc', 'south', 'wage']'. The unobserved variables are: '['U', 'U2']'. If this matches your expectations for observations, please continue. If you expected any of the unobserved variables to be in the dataframe, please check for typos.\n",
            "WARNING:dowhy.causal_model:There are an additional 8 variables in the dataset that are not in the graph. Variable names are: '['black', 'brthord', 'exper', 'lhwage', 'married', 'sibs', 'tenure', 'urban']'\n"
          ]
        },
        {
          "output_type": "display_data",
          "data": {
            "text/plain": [
              "<Figure size 800x600 with 1 Axes>"
            ],
            "image/png": "[encoded data removed]"
          },
          "metadata": {}
        },
        {
          "output_type": "display_data",
          "data": {
            "image/png": "[encoded data removed]",
            "text/plain": [
              "<IPython.core.display.Image object>"
            ]
          },
          "metadata": {}
        }
      ]
    },
    {
      "cell_type": "code",
      "source": [
        "identified_estimand = model_com.identify_effect(proceed_when_unidentifiable=True)\n",
        "print(identified_estimand)"
      ],
      "metadata": {
        "colab": {
          "base_uri": "https://localhost:8080/"
        },
        "id": "eNVKwDerTUI6",
        "outputId": "8eb6240c-0a46-4726-d86c-7313aadd999b"
      },
      "execution_count": null,
      "outputs": [
        {
          "output_type": "stream",
          "name": "stdout",
          "text": [
            "Estimand type: EstimandType.NONPARAMETRIC_ATE\n",
            "\n",
            "### Estimand : 1\n",
            "Estimand name: backdoor\n",
            "Estimand expression:\n",
            "   d                         \n",
            "───────(E[wage|IQ,age,south])\n",
            "d[educ]                      \n",
            "Estimand assumption 1, Unconfoundedness: If U→{educ} and U→wage then P(wage|educ,IQ,age,south,U) = P(wage|educ,IQ,age,south)\n",
            "\n",
            "### Estimand : 2\n",
            "Estimand name: iv\n",
            "No such variable(s) found!\n",
            "\n",
            "### Estimand : 3\n",
            "Estimand name: frontdoor\n",
            "No such variable(s) found!\n",
            "\n"
          ]
        }
      ]
    },
    {
      "cell_type": "code",
      "source": [
        "#Choose the first estimand\n",
        "estimate = model_com.estimate_effect(identified_estimand,\n",
        "        method_name=\"backdoor.linear_regression\", test_significance=True)\n",
        "\n",
        "print(estimate)"
      ],
      "metadata": {
        "colab": {
          "base_uri": "https://localhost:8080/"
        },
        "id": "RwR2hDanTaXp",
        "outputId": "09c3ee8e-ca81-4b20-e445-4bce914f7541"
      },
      "execution_count": null,
      "outputs": [
        {
          "output_type": "stream",
          "name": "stdout",
          "text": [
            "*** Causal Estimate ***\n",
            "\n",
            "## Identified estimand\n",
            "Estimand type: EstimandType.NONPARAMETRIC_ATE\n",
            "\n",
            "### Estimand : 1\n",
            "Estimand name: backdoor\n",
            "Estimand expression:\n",
            "   d                         \n",
            "───────(E[wage|IQ,age,south])\n",
            "d[educ]                      \n",
            "Estimand assumption 1, Unconfoundedness: If U→{educ} and U→wage then P(wage|educ,IQ,age,south,U) = P(wage|educ,IQ,age,south)\n",
            "\n",
            "## Realized estimand\n",
            "b: wage~educ+IQ+age+south+educ*hours\n",
            "Target units: ate\n",
            "\n",
            "## Estimate\n",
            "Mean value: 42.71105355706692\n",
            "\n"
          ]
        }
      ]
    },
    {
      "cell_type": "code",
      "source": [
        "# Refute placebo\n",
        "res_placebo=model_com.refute_estimate(identified_estimand, estimate,\n",
        "        method_name=\"placebo_treatment_refuter\", placebo_type=\"permute\")\n",
        "print(res_placebo)"
      ],
      "metadata": {
        "colab": {
          "base_uri": "https://localhost:8080/"
        },
        "id": "D_ubT84PYYh5",
        "outputId": "e5a569ba-6b27-47c6-c45c-00ea23794b65"
      },
      "execution_count": null,
      "outputs": [
        {
          "output_type": "stream",
          "name": "stdout",
          "text": [
            "Refute: Use a Placebo Treatment\n",
            "Estimated effect:42.71105355706692\n",
            "New effect:0.3704015934730478\n",
            "p value:1.0\n",
            "\n"
          ]
        }
      ]
    },
    {
      "cell_type": "code",
      "source": [
        "# Sensitivity analysis\n",
        "refute_results=model_com.refute_estimate(identified_estimand, estimate,\n",
        "        method_name=\"random_common_cause\")\n",
        "print(refute_results)"
      ],
      "metadata": {
        "colab": {
          "base_uri": "https://localhost:8080/"
        },
        "id": "wGbv8vY2T-Rh",
        "outputId": "2cf0ea3b-3307-4610-8925-c30de29d02a7"
      },
      "execution_count": null,
      "outputs": [
        {
          "output_type": "stream",
          "name": "stdout",
          "text": [
            "Refute: Add a random common cause\n",
            "Estimated effect:42.057618716449156\n",
            "New effect:42.03017873511008\n",
            "p value:0.96\n",
            "\n"
          ]
        }
      ]
    },
    {
      "cell_type": "code",
      "source": [
        "refute_results=model_com.refute_estimate(identified_estimand, estimate,\n",
        "        method_name=\"add_unobserved_common_cause\")\n",
        "print(refute_results)"
      ],
      "metadata": {
        "colab": {
          "base_uri": "https://localhost:8080/"
        },
        "id": "U70v7RLRf0hW",
        "outputId": "36ce2fae-57f5-4671-b268-21d80495a5cf"
      },
      "execution_count": null,
      "outputs": [
        {
          "output_type": "stream",
          "name": "stdout",
          "text": [
            "Refute: Add an Unobserved Common Cause\n",
            "Estimated effect:42.057618716449156\n",
            "New effect:7.794131834994573\n",
            "\n"
          ]
        }
      ]
    },
    {
      "cell_type": "markdown",
      "source": [
        "# Conclusion\n",
        "Afin de faire de l’inférence causale nous ne pouvons pas adopter une approche data driven. Les méthodes prédictives se basent sur la détection de corrélations entre données en entrée et labels et ne nous donnent aucune indication sur la structure causale des données. L'approche causale met l'accent sur l'analyse de la structure causale des données et non pas sur la prédiction.\n",
        "\n",
        "\n",
        "Dans une démarche d'’inférence causale nous devons expliciter et encoder nos hypothèses. Ces hypothèses décrivent notre connaissance à priori de la structure causale au sein de nos données. Nous allons par la suite élaborer une stratégie analytique, choisir des estimateurs et tester la robustesse de nos estimations. Nos résultats sont valides dans le cadre de nos hypothèses de départ.\n",
        "\n",
        "\n",
        "Les expériences randomisées sont le meilleur outil à notre disposition pour examiner des relations de causalité. En randomisant le traitement nous nous assurons que toute différence mesurée entre le groupe traitement et le groupe contrôle est due au traitement.\n",
        "\n",
        "\n",
        "Les expériences randomisées sont difficiles à organiser, peuvent être coûteuses et dans certains cas pas éthiques. Souvent nous devons nous limier à l'analyse de données observationnelles.\n",
        "\n",
        "\n",
        "Avec des données observationnelles nous devons prêter très attention aux variables confondantes qui influencent à la fois le traitement et la cible.\n",
        "\n",
        "\n",
        "Nous pouvons utiliser les propriétés des diagrammes causales pour identifier les variables confondantes et pour identifier le set de variables qui peuvent être utilisées pour isoler la variable traitement.\n",
        "\n",
        "\n",
        "Nous pouvons utiliser la régression pour estimer l’effet de notre traitement en contrôlant le set de variables “deconfounding”.\n",
        "\n"
      ],
      "metadata": {
        "id": "k2MuNYiZlxxo"
      }
    }
  ],
  "metadata": {
    "colab": {
      "provenance": []
    },
    "kernelspec": {
      "display_name": "Python 3",
      "name": "python3"
    },
    "language_info": {
      "name": "python"
    }
  },
  "nbformat": 4,
  "nbformat_minor": 0
}